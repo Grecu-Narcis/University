{
 "cells": [
  {
   "cell_type": "markdown",
   "metadata": {},
   "source": [
    "# A.I. Assignment 3\n",
    "\n",
    "\n",
    "## Learning Goals\n",
    "\n",
    "By the end of this lab, you should be able to:\n",
    "* Perform some more data preproscessing: checking for missing samples, eliminate them, encoding labeled classes\n",
    "* Feel comfortable creating a simple decision tree for a classification \n",
    "* Dealing with some feature selection techniques\n",
    "\n",
    "### Content:\n",
    "\n",
    "The Lab. has 3 sections: \n",
    "\n",
    "1. Preprocessing\n",
    "2. Constructing and fitting a decision tree\n",
    "3. Perform a feature selection based on the linear correlation between the dataset's features \n",
    "\n",
    "There are some exercises, put your answer code in the cells with the *# your code here*. \n",
    "\n",
    "All the work must be done during the lab and uploaded on teams by the end of the lab. \n",
    "\n",
    "If there are any python libraries missing, please install them on your working environment. "
   ]
  },
  {
   "cell_type": "markdown",
   "metadata": {},
   "source": [
    "We will be using a variation of the famous **Iris dataset**. !DO NOT USE OTHER VERSION THAN THE ONE PROVIDED HERE.  \n",
    "\n",
    "This set contains measurements of various parts of three different species of iris flowers. The goal is to use these measurements to predict the species of an iris flower.\n",
    "\n",
    "The dataset contains 154 instances, each with 4 features: *sepal length*, *sepal width*, *petal length*, and *petal width*. The target variable is the species of the iris flower, which can be one of three possible values: *setosa*, *versicolor*, or *virginica*.\n",
    "\n",
    "We will start by loading the dataset, preparing it and splitting it into training and testing sets."
   ]
  },
  {
   "cell_type": "code",
   "execution_count": 1,
   "metadata": {},
   "outputs": [],
   "source": [
    "# the imports:\n",
    "\n",
    "# pandas for handling the data\n",
    "import pandas as pd\n",
    "\n",
    "import matplotlib.pyplot as plt\n",
    "%matplotlib inline\n",
    "\n",
    "# Seaborn is a Python data visualization library that offers a user-friendly interface \n",
    "#    for generating visually appealing and informative statistical graphics.\n",
    "import seaborn as sns\n",
    "\n",
    "# From sklearn we import some classes and functions for data handling, the tree classifier, \n",
    "#    the accuracy and the plot function to depict the tree  \n",
    "from sklearn.preprocessing import LabelEncoder\n",
    "from sklearn.model_selection import train_test_split \n",
    "from sklearn.tree import DecisionTreeClassifier \n",
    "from sklearn.metrics import accuracy_score \n",
    "from sklearn.tree import plot_tree \n",
    "\n",
    "# This class we use it to search exhaustive over specified parameter values for an estimator.\n",
    "from sklearn.model_selection import GridSearchCV \n"
   ]
  },
  {
   "cell_type": "markdown",
   "metadata": {},
   "source": [
    "## Preparing the data"
   ]
  },
  {
   "cell_type": "markdown",
   "metadata": {},
   "source": [
    "### Exercises\n",
    "\n",
    "1. Import with pandas the file *iris_teach_2.csv* into the pandas DataFrame with the name *df_iris*. "
   ]
  },
  {
   "cell_type": "code",
   "execution_count": 2,
   "metadata": {},
   "outputs": [
    {
     "data": {
      "text/html": [
       "<div>\n",
       "<style scoped>\n",
       "    .dataframe tbody tr th:only-of-type {\n",
       "        vertical-align: middle;\n",
       "    }\n",
       "\n",
       "    .dataframe tbody tr th {\n",
       "        vertical-align: top;\n",
       "    }\n",
       "\n",
       "    .dataframe thead th {\n",
       "        text-align: right;\n",
       "    }\n",
       "</style>\n",
       "<table border=\"1\" class=\"dataframe\">\n",
       "  <thead>\n",
       "    <tr style=\"text-align: right;\">\n",
       "      <th></th>\n",
       "      <th>sepal length (cm)</th>\n",
       "      <th>sepal width (cm)</th>\n",
       "      <th>petal length (cm)</th>\n",
       "      <th>petal width (cm)</th>\n",
       "      <th>iris_name</th>\n",
       "    </tr>\n",
       "  </thead>\n",
       "  <tbody>\n",
       "    <tr>\n",
       "      <th>0</th>\n",
       "      <td>5.1</td>\n",
       "      <td>3.5</td>\n",
       "      <td>1.4</td>\n",
       "      <td>0.2</td>\n",
       "      <td>setosa</td>\n",
       "    </tr>\n",
       "    <tr>\n",
       "      <th>1</th>\n",
       "      <td>4.9</td>\n",
       "      <td>3.0</td>\n",
       "      <td>1.4</td>\n",
       "      <td>0.2</td>\n",
       "      <td>setosa</td>\n",
       "    </tr>\n",
       "    <tr>\n",
       "      <th>2</th>\n",
       "      <td>4.7</td>\n",
       "      <td>3.2</td>\n",
       "      <td>1.3</td>\n",
       "      <td>0.2</td>\n",
       "      <td>setosa</td>\n",
       "    </tr>\n",
       "    <tr>\n",
       "      <th>3</th>\n",
       "      <td>4.6</td>\n",
       "      <td>3.1</td>\n",
       "      <td>1.5</td>\n",
       "      <td>0.2</td>\n",
       "      <td>setosa</td>\n",
       "    </tr>\n",
       "    <tr>\n",
       "      <th>4</th>\n",
       "      <td>5.0</td>\n",
       "      <td>3.6</td>\n",
       "      <td>1.4</td>\n",
       "      <td>0.2</td>\n",
       "      <td>setosa</td>\n",
       "    </tr>\n",
       "  </tbody>\n",
       "</table>\n",
       "</div>"
      ],
      "text/plain": [
       "   sepal length (cm)  sepal width (cm)  petal length (cm)  petal width (cm)  \\\n",
       "0                5.1               3.5                1.4               0.2   \n",
       "1                4.9               3.0                1.4               0.2   \n",
       "2                4.7               3.2                1.3               0.2   \n",
       "3                4.6               3.1                1.5               0.2   \n",
       "4                5.0               3.6                1.4               0.2   \n",
       "\n",
       "  iris_name  \n",
       "0    setosa  \n",
       "1    setosa  \n",
       "2    setosa  \n",
       "3    setosa  \n",
       "4    setosa  "
      ]
     },
     "execution_count": 2,
     "metadata": {},
     "output_type": "execute_result"
    }
   ],
   "source": [
    "# your code here\n",
    "\n",
    "df_iris = pd.read_csv('iris_teach_2.csv')\n",
    "df_iris.head()"
   ]
  },
  {
   "cell_type": "markdown",
   "metadata": {},
   "source": [
    "___________________________________________________________________________________________________________________________"
   ]
  },
  {
   "cell_type": "markdown",
   "metadata": {},
   "source": [
    "2. use the method *isnull()* from the class DataFrame to check if there are empty cells in the dataset. (Hint: check the documentation and use this method with respect to your DataFrame object; use the method .sum() to the result to count the empty cells on columns)"
   ]
  },
  {
   "cell_type": "code",
   "execution_count": 3,
   "metadata": {},
   "outputs": [
    {
     "name": "stdout",
     "output_type": "stream",
     "text": [
      "sepal length (cm) 1\n",
      "sepal width (cm) 1\n",
      "petal length (cm) 0\n",
      "petal width (cm) 1\n",
      "iris_name 1\n"
     ]
    }
   ],
   "source": [
    "# your code here\n",
    "\n",
    "# .isnull() returns a new dataframe with the same size\n",
    "# each element is either True/False, true if element is null\n",
    "# false otherwise\n",
    "# \n",
    "\n",
    "df_iris_null = df_iris.isnull()\n",
    "\n",
    "for column in df_iris_null:\n",
    "    values = df_iris_null[column]\n",
    "    print(column, values.sum())"
   ]
  },
  {
   "cell_type": "markdown",
   "metadata": {},
   "source": [
    "3. We see that we have some empty cells on some rows. Delete these rows (hint: use the method *dropna()* from pandas.DataFrame class, with the argument *inplace=True*). Check the documentation why we use that argument (https://pandas.pydata.org/docs/reference/api/pandas.DataFrame.dropna.html)! "
   ]
  },
  {
   "cell_type": "code",
   "execution_count": 4,
   "metadata": {},
   "outputs": [
    {
     "name": "stdout",
     "output_type": "stream",
     "text": [
      "sepal length (cm) 0\n",
      "sepal width (cm) 0\n",
      "petal length (cm) 0\n",
      "petal width (cm) 0\n",
      "iris_name 0\n"
     ]
    }
   ],
   "source": [
    "# your code here\n",
    "\n",
    "# .dropna() removes rows that contains at least one nan value\n",
    "# inplace=True specifies that we want to modify the current dataframe and \n",
    "# not to create a new one\n",
    "\n",
    "df_iris.dropna(inplace=True)\n",
    "\n",
    "for column in df_iris.isnull():\n",
    "    values = df_iris.isnull()[column]\n",
    "    print(column, values.sum())"
   ]
  },
  {
   "cell_type": "markdown",
   "metadata": {},
   "source": [
    "4. Divide the dataset in two parts: a set **X** for features and **y** for target. "
   ]
  },
  {
   "cell_type": "code",
   "execution_count": 5,
   "metadata": {},
   "outputs": [
    {
     "data": {
      "text/plain": [
       "(array([[1.4, 0.2, 5.1, 3.5],\n",
       "        [1.4, 0.2, 4.9, 3. ],\n",
       "        [1.3, 0.2, 4.7, 3.2],\n",
       "        [1.5, 0.2, 4.6, 3.1],\n",
       "        [1.4, 0.2, 5. , 3.6],\n",
       "        [1.7, 0.4, 5.4, 3.9],\n",
       "        [1.4, 0.3, 4.6, 3.4],\n",
       "        [1.5, 0.2, 5. , 3.4],\n",
       "        [1.4, 0.2, 4.4, 2.9],\n",
       "        [1.5, 0.1, 4.9, 3.1],\n",
       "        [1.5, 0.2, 5.4, 3.7],\n",
       "        [1.6, 0.2, 4.8, 3.4],\n",
       "        [1.4, 0.1, 4.8, 3. ],\n",
       "        [1.1, 0.1, 4.3, 3. ],\n",
       "        [1.2, 0.2, 5.8, 4. ],\n",
       "        [1.5, 0.4, 5.7, 4.4],\n",
       "        [1.3, 0.4, 5.4, 3.9],\n",
       "        [1.4, 0.3, 5.1, 3.5],\n",
       "        [1.7, 0.3, 5.7, 3.8],\n",
       "        [1.5, 0.3, 5.1, 3.8],\n",
       "        [1.7, 0.2, 5.4, 3.4],\n",
       "        [1.5, 0.4, 5.1, 3.7],\n",
       "        [1. , 0.2, 4.6, 3.6],\n",
       "        [1.7, 0.5, 5.1, 3.3],\n",
       "        [1.9, 0.2, 4.8, 3.4],\n",
       "        [1.6, 0.2, 5. , 3. ],\n",
       "        [1.6, 0.4, 5. , 3.4],\n",
       "        [1.5, 0.2, 5.2, 3.5],\n",
       "        [1.4, 0.2, 5.2, 3.4],\n",
       "        [1.6, 0.2, 4.7, 3.2],\n",
       "        [1.6, 0.2, 4.8, 3.1],\n",
       "        [1.5, 0.4, 5.4, 3.4],\n",
       "        [1.5, 0.1, 5.2, 4.1],\n",
       "        [1.4, 0.2, 5.5, 4.2],\n",
       "        [1.5, 0.2, 4.9, 3.1],\n",
       "        [1.2, 0.2, 5. , 3.2],\n",
       "        [1.3, 0.2, 5.5, 3.5],\n",
       "        [1.4, 0.1, 4.9, 3.6],\n",
       "        [1.3, 0.2, 4.4, 3. ],\n",
       "        [1.5, 0.2, 5.1, 3.4],\n",
       "        [1.3, 0.3, 5. , 3.5],\n",
       "        [1.3, 0.3, 4.5, 2.3],\n",
       "        [1.3, 0.2, 4.4, 3.2],\n",
       "        [1.6, 0.6, 5. , 3.5],\n",
       "        [1.9, 0.4, 5.1, 3.8],\n",
       "        [1.4, 0.3, 4.8, 3. ],\n",
       "        [1.6, 0.2, 5.1, 3.8],\n",
       "        [1.4, 0.2, 4.6, 3.2],\n",
       "        [1.5, 0.2, 5.3, 3.7],\n",
       "        [1.4, 0.2, 5. , 3.3],\n",
       "        [4.7, 1.4, 7. , 3.2],\n",
       "        [4.5, 1.5, 6.4, 3.2],\n",
       "        [4.9, 1.5, 6.9, 3.1],\n",
       "        [4. , 1.3, 5.5, 2.3],\n",
       "        [4.6, 1.5, 6.5, 2.8],\n",
       "        [4.5, 1.3, 5.7, 2.8],\n",
       "        [4.7, 1.6, 6.3, 3.3],\n",
       "        [3.3, 1. , 4.9, 2.4],\n",
       "        [4.6, 1.3, 6.6, 2.9],\n",
       "        [3.9, 1.4, 5.2, 2.7],\n",
       "        [3.5, 1. , 5. , 2. ],\n",
       "        [4.2, 1.5, 5.9, 3. ],\n",
       "        [4. , 1. , 6. , 2.2],\n",
       "        [4.7, 1.4, 6.1, 2.9],\n",
       "        [3.6, 1.3, 5.6, 2.9],\n",
       "        [4.4, 1.4, 6.7, 3.1],\n",
       "        [4.5, 1.5, 5.6, 3. ],\n",
       "        [4.1, 1. , 5.8, 2.7],\n",
       "        [4.5, 1.5, 6.2, 2.2],\n",
       "        [3.9, 1.1, 5.6, 2.5],\n",
       "        [4.8, 1.8, 5.9, 3.2],\n",
       "        [4. , 1.3, 6.1, 2.8],\n",
       "        [4.9, 1.5, 6.3, 2.5],\n",
       "        [4.7, 1.2, 6.1, 2.8],\n",
       "        [4.3, 1.3, 6.4, 2.9],\n",
       "        [4.4, 1.4, 6.6, 3. ],\n",
       "        [4.8, 1.4, 6.8, 2.8],\n",
       "        [5. , 1.7, 6.7, 3. ],\n",
       "        [4.5, 1.5, 6. , 2.9],\n",
       "        [3.5, 1. , 5.7, 2.6],\n",
       "        [3.8, 1.1, 5.5, 2.4],\n",
       "        [3.7, 1. , 5.5, 2.4],\n",
       "        [3.9, 1.2, 5.8, 2.7],\n",
       "        [5.1, 1.6, 6. , 2.7],\n",
       "        [4.5, 1.5, 5.4, 3. ],\n",
       "        [4.5, 1.6, 6. , 3.4],\n",
       "        [4.7, 1.5, 6.7, 3.1],\n",
       "        [4.4, 1.3, 6.3, 2.3],\n",
       "        [4.1, 1.3, 5.6, 3. ],\n",
       "        [4. , 1.3, 5.5, 2.5],\n",
       "        [4.4, 1.2, 5.5, 2.6],\n",
       "        [4.6, 1.4, 6.1, 3. ],\n",
       "        [4. , 1.2, 5.8, 2.6],\n",
       "        [3.3, 1. , 5. , 2.3],\n",
       "        [4.2, 1.3, 5.6, 2.7],\n",
       "        [4.2, 1.2, 5.7, 3. ],\n",
       "        [4.2, 1.3, 5.7, 2.9],\n",
       "        [4.3, 1.3, 6.2, 2.9],\n",
       "        [3. , 1.1, 5.1, 2.5],\n",
       "        [4.1, 1.3, 5.7, 2.8],\n",
       "        [6. , 2.5, 6.3, 3.3],\n",
       "        [5.1, 1.9, 5.8, 2.7],\n",
       "        [5.9, 2.1, 7.1, 3. ],\n",
       "        [5.6, 1.8, 6.3, 2.9],\n",
       "        [5.8, 2.2, 6.5, 3. ],\n",
       "        [6.6, 2.1, 7.6, 3. ],\n",
       "        [4.5, 1.7, 4.9, 2.5],\n",
       "        [6.3, 1.8, 7.3, 2.9],\n",
       "        [5.8, 1.8, 6.7, 2.5],\n",
       "        [6.1, 2.5, 7.2, 3.6],\n",
       "        [5.1, 2. , 6.5, 3.2],\n",
       "        [5.3, 1.9, 6.4, 2.7],\n",
       "        [5.5, 2.1, 6.8, 3. ],\n",
       "        [5. , 2. , 5.7, 2.5],\n",
       "        [5.1, 2.4, 5.8, 2.8],\n",
       "        [5.3, 2.3, 6.4, 3.2],\n",
       "        [5.5, 1.8, 6.5, 3. ],\n",
       "        [6.7, 2.2, 7.7, 3.8],\n",
       "        [6.9, 2.3, 7.7, 2.6],\n",
       "        [5. , 1.5, 6. , 2.2],\n",
       "        [5.7, 2.3, 6.9, 3.2],\n",
       "        [4.9, 2. , 5.6, 2.8],\n",
       "        [6.7, 2. , 7.7, 2.8],\n",
       "        [4.9, 1.8, 6.3, 2.7],\n",
       "        [5.7, 2.1, 6.7, 3.3],\n",
       "        [6. , 1.8, 7.2, 3.2],\n",
       "        [4.8, 1.8, 6.2, 2.8],\n",
       "        [4.9, 1.8, 6.1, 3. ],\n",
       "        [5.6, 2.1, 6.4, 2.8],\n",
       "        [5.8, 1.6, 7.2, 3. ],\n",
       "        [6.1, 1.9, 7.4, 2.8],\n",
       "        [6.4, 2. , 7.9, 3.8],\n",
       "        [5.6, 2.2, 6.4, 2.8],\n",
       "        [5.1, 1.5, 6.3, 2.8],\n",
       "        [5.6, 1.4, 6.1, 2.6],\n",
       "        [6.1, 2.3, 7.7, 3. ],\n",
       "        [5.6, 2.4, 6.3, 3.4],\n",
       "        [5.5, 1.8, 6.4, 3.1],\n",
       "        [4.8, 1.8, 6. , 3. ],\n",
       "        [5.4, 2.1, 6.9, 3.1],\n",
       "        [5.6, 2.4, 6.7, 3.1],\n",
       "        [5.1, 2.3, 6.9, 3.1],\n",
       "        [5.1, 1.9, 5.8, 2.7],\n",
       "        [5.9, 2.3, 6.8, 3.2],\n",
       "        [5.7, 2.5, 6.7, 3.3],\n",
       "        [5.2, 2.3, 6.7, 3. ],\n",
       "        [5. , 1.9, 6.3, 2.5],\n",
       "        [5.2, 2. , 6.5, 3. ],\n",
       "        [5.4, 2.3, 6.2, 3.4],\n",
       "        [5.1, 1.8, 5.9, 3. ]]),\n",
       " array(['setosa', 'setosa', 'setosa', 'setosa', 'setosa', 'setosa',\n",
       "        'setosa', 'setosa', 'setosa', 'setosa', 'setosa', 'setosa',\n",
       "        'setosa', 'setosa', 'setosa', 'setosa', 'setosa', 'setosa',\n",
       "        'setosa', 'setosa', 'setosa', 'setosa', 'setosa', 'setosa',\n",
       "        'setosa', 'setosa', 'setosa', 'setosa', 'setosa', 'setosa',\n",
       "        'setosa', 'setosa', 'setosa', 'setosa', 'setosa', 'setosa',\n",
       "        'setosa', 'setosa', 'setosa', 'setosa', 'setosa', 'setosa',\n",
       "        'setosa', 'setosa', 'setosa', 'setosa', 'setosa', 'setosa',\n",
       "        'setosa', 'setosa', 'versicolor', 'versicolor', 'versicolor',\n",
       "        'versicolor', 'versicolor', 'versicolor', 'versicolor',\n",
       "        'versicolor', 'versicolor', 'versicolor', 'versicolor',\n",
       "        'versicolor', 'versicolor', 'versicolor', 'versicolor',\n",
       "        'versicolor', 'versicolor', 'versicolor', 'versicolor',\n",
       "        'versicolor', 'versicolor', 'versicolor', 'versicolor',\n",
       "        'versicolor', 'versicolor', 'versicolor', 'versicolor',\n",
       "        'versicolor', 'versicolor', 'versicolor', 'versicolor',\n",
       "        'versicolor', 'versicolor', 'versicolor', 'versicolor',\n",
       "        'versicolor', 'versicolor', 'versicolor', 'versicolor',\n",
       "        'versicolor', 'versicolor', 'versicolor', 'versicolor',\n",
       "        'versicolor', 'versicolor', 'versicolor', 'versicolor',\n",
       "        'versicolor', 'versicolor', 'versicolor', 'virginica', 'virginica',\n",
       "        'virginica', 'virginica', 'virginica', 'virginica', 'virginica',\n",
       "        'virginica', 'virginica', 'virginica', 'virginica', 'virginica',\n",
       "        'virginica', 'virginica', 'virginica', 'virginica', 'virginica',\n",
       "        'virginica', 'virginica', 'virginica', 'virginica', 'virginica',\n",
       "        'virginica', 'virginica', 'virginica', 'virginica', 'virginica',\n",
       "        'virginica', 'virginica', 'virginica', 'virginica', 'virginica',\n",
       "        'virginica', 'virginica', 'virginica', 'virginica', 'virginica',\n",
       "        'virginica', 'virginica', 'virginica', 'virginica', 'virginica',\n",
       "        'virginica', 'virginica', 'virginica', 'virginica', 'virginica',\n",
       "        'virginica', 'virginica', 'virginica'], dtype=object))"
      ]
     },
     "execution_count": 5,
     "metadata": {},
     "output_type": "execute_result"
    }
   ],
   "source": [
    "# your code here\n",
    "\n",
    "# df.columns => list of columns names of df\n",
    "# df.columns.difference(columns to except as list) => list of all the columns except those\n",
    "# provided as arguments to difference\n",
    "\n",
    "import numpy as np\n",
    "\n",
    "X = np.array(df_iris[df_iris.columns.difference(['iris_name'])])\n",
    "y = np.array(df_iris['iris_name'])\n",
    "\n",
    "X, y"
   ]
  },
  {
   "cell_type": "markdown",
   "metadata": {},
   "source": [
    "5. Create a **LabelEncoder** object to encode the classes from the target. Fit it with the *y* list, and encode *y* with it. (https://scikit-learn.org/stable/modules/generated/sklearn.preprocessing.LabelEncoder.html#sklearn.preprocessing.LabelEncoder)"
   ]
  },
  {
   "cell_type": "code",
   "execution_count": 6,
   "metadata": {},
   "outputs": [
    {
     "data": {
      "text/plain": [
       "array([0, 0, 0, 0, 0, 0, 0, 0, 0, 0, 0, 0, 0, 0, 0, 0, 0, 0, 0, 0, 0, 0,\n",
       "       0, 0, 0, 0, 0, 0, 0, 0, 0, 0, 0, 0, 0, 0, 0, 0, 0, 0, 0, 0, 0, 0,\n",
       "       0, 0, 0, 0, 0, 0, 1, 1, 1, 1, 1, 1, 1, 1, 1, 1, 1, 1, 1, 1, 1, 1,\n",
       "       1, 1, 1, 1, 1, 1, 1, 1, 1, 1, 1, 1, 1, 1, 1, 1, 1, 1, 1, 1, 1, 1,\n",
       "       1, 1, 1, 1, 1, 1, 1, 1, 1, 1, 1, 1, 2, 2, 2, 2, 2, 2, 2, 2, 2, 2,\n",
       "       2, 2, 2, 2, 2, 2, 2, 2, 2, 2, 2, 2, 2, 2, 2, 2, 2, 2, 2, 2, 2, 2,\n",
       "       2, 2, 2, 2, 2, 2, 2, 2, 2, 2, 2, 2, 2, 2, 2, 2, 2, 2])"
      ]
     },
     "execution_count": 6,
     "metadata": {},
     "output_type": "execute_result"
    }
   ],
   "source": [
    "# your code here\n",
    "\n",
    "from sklearn.preprocessing import LabelEncoder\n",
    "\n",
    "# LabelEncoder:\n",
    "# .fit(y) => Fit label encoder and return encoded labels.\n",
    "# basically encodes the strings to numbers\n",
    "\n",
    "# .transform(y) => Transform labels to normalized encoding.\n",
    "# basically each value for y is encoded using the encoding \n",
    "# done when .fit()\n",
    "\n",
    "label_encoder = LabelEncoder()\n",
    "label_encoder.fit(y)\n",
    "y = label_encoder.transform(y)\n",
    "y"
   ]
  },
  {
   "cell_type": "markdown",
   "metadata": {},
   "source": [
    "6. Divide the dataset in a training and a testing set as we did it in the previous laboratory with the sklearn function *train_test_split*. Check the documentation why we use for *random_state* a fixed value here! (https://scikit-learn.org/stable/modules/generated/sklearn.model_selection.train_test_split.html)"
   ]
  },
  {
   "cell_type": "code",
   "execution_count": 7,
   "metadata": {},
   "outputs": [],
   "source": [
    "# your code here\n",
    "\n",
    "from sklearn.model_selection import train_test_split\n",
    "\n",
    "# for train_test_split =>\n",
    "# arrays we want to split \n",
    "# test_size - float => percentage on how many data should be in the test\n",
    "#           - int => number of test samples\n",
    "# random_state => controls the shuffling of data\n",
    "# if we use a constant value we obtain predictable results\n",
    "\n",
    "X_train, X_test, y_train, y_test = train_test_split(X, y, test_size=0.2, random_state=9)"
   ]
  },
  {
   "cell_type": "code",
   "execution_count": 39,
   "metadata": {},
   "outputs": [
    {
     "data": {
      "text/plain": [
       "array([[5.5, 2.1, 6.8, 3. ],\n",
       "       [4.8, 1.8, 6. , 3. ],\n",
       "       [1.7, 0.5, 5.1, 3.3],\n",
       "       [4.1, 1. , 5.8, 2.7],\n",
       "       [3.5, 1. , 5.7, 2.6],\n",
       "       [3.9, 1.2, 5.8, 2.7],\n",
       "       [4.8, 1.4, 6.8, 2.8],\n",
       "       [1.4, 0.3, 4.8, 3. ],\n",
       "       [6.1, 2.5, 7.2, 3.6],\n",
       "       [1.5, 0.2, 5. , 3.4],\n",
       "       [1.4, 0.3, 5.1, 3.5],\n",
       "       [6. , 2.5, 6.3, 3.3],\n",
       "       [4.7, 1.5, 6.7, 3.1],\n",
       "       [1.9, 0.4, 5.1, 3.8],\n",
       "       [5.6, 1.8, 6.3, 2.9],\n",
       "       [4.5, 1.5, 6.2, 2.2],\n",
       "       [1.4, 0.3, 4.6, 3.4],\n",
       "       [3.9, 1.1, 5.6, 2.5],\n",
       "       [1.2, 0.2, 5. , 3.2],\n",
       "       [6.1, 1.9, 7.4, 2.8],\n",
       "       [4.8, 1.8, 5.9, 3.2],\n",
       "       [4.5, 1.5, 6.4, 3.2],\n",
       "       [1.5, 0.2, 5.4, 3.7],\n",
       "       [4. , 1.3, 5.5, 2.3],\n",
       "       [5.1, 1.5, 6.3, 2.8],\n",
       "       [5.6, 2.4, 6.3, 3.4],\n",
       "       [5.1, 2. , 6.5, 3.2],\n",
       "       [5.6, 2.4, 6.7, 3.1],\n",
       "       [3.8, 1.1, 5.5, 2.4],\n",
       "       [1.5, 0.4, 5.1, 3.7],\n",
       "       [5.6, 1.4, 6.1, 2.6],\n",
       "       [1.3, 0.2, 4.4, 3. ],\n",
       "       [1.3, 0.2, 4.7, 3.2],\n",
       "       [4.5, 1.5, 5.4, 3. ],\n",
       "       [5.5, 1.8, 6.5, 3. ],\n",
       "       [1.6, 0.2, 4.8, 3.4],\n",
       "       [3.3, 1. , 4.9, 2.4],\n",
       "       [4.5, 1.5, 6. , 2.9],\n",
       "       [6.7, 2. , 7.7, 2.8],\n",
       "       [4.2, 1.3, 5.7, 2.9],\n",
       "       [4.3, 1.3, 6.2, 2.9],\n",
       "       [1.3, 0.2, 5.5, 3.5],\n",
       "       [1.5, 0.1, 5.2, 4.1],\n",
       "       [5.4, 2.3, 6.2, 3.4],\n",
       "       [4.1, 1.3, 5.6, 3. ],\n",
       "       [1.2, 0.2, 5.8, 4. ],\n",
       "       [6.3, 1.8, 7.3, 2.9],\n",
       "       [5.1, 1.6, 6. , 2.7],\n",
       "       [4.5, 1.7, 4.9, 2.5],\n",
       "       [4.2, 1.2, 5.7, 3. ],\n",
       "       [1.5, 0.2, 5.3, 3.7],\n",
       "       [4.5, 1.6, 6. , 3.4],\n",
       "       [4.4, 1.3, 6.3, 2.3],\n",
       "       [1.3, 0.2, 4.4, 3.2],\n",
       "       [1.3, 0.3, 4.5, 2.3],\n",
       "       [5.9, 2.1, 7.1, 3. ],\n",
       "       [4.2, 1.5, 5.9, 3. ],\n",
       "       [5.3, 2.3, 6.4, 3.2],\n",
       "       [1.6, 0.2, 4.7, 3.2],\n",
       "       [4.5, 1.5, 5.6, 3. ],\n",
       "       [1.6, 0.2, 5.1, 3.8],\n",
       "       [1.5, 0.4, 5.7, 4.4],\n",
       "       [4. , 1.3, 6.1, 2.8],\n",
       "       [4.9, 2. , 5.6, 2.8],\n",
       "       [5.4, 2.1, 6.9, 3.1],\n",
       "       [1.5, 0.2, 4.9, 3.1],\n",
       "       [1.4, 0.2, 4.9, 3. ],\n",
       "       [3.6, 1.3, 5.6, 2.9],\n",
       "       [4.9, 1.5, 6.3, 2.5],\n",
       "       [6.6, 2.1, 7.6, 3. ],\n",
       "       [5.1, 2.4, 5.8, 2.8],\n",
       "       [1.6, 0.2, 4.8, 3.1],\n",
       "       [6.4, 2. , 7.9, 3.8],\n",
       "       [1.9, 0.2, 4.8, 3.4],\n",
       "       [1.7, 0.4, 5.4, 3.9],\n",
       "       [5. , 2. , 5.7, 2.5],\n",
       "       [1.3, 0.4, 5.4, 3.9],\n",
       "       [5.6, 2.2, 6.4, 2.8],\n",
       "       [4.3, 1.3, 6.4, 2.9],\n",
       "       [1.4, 0.2, 5.1, 3.5],\n",
       "       [4.9, 1.8, 6.3, 2.7],\n",
       "       [4.9, 1.5, 6.9, 3.1],\n",
       "       [4.1, 1.3, 5.7, 2.8],\n",
       "       [1.4, 0.2, 5. , 3.6],\n",
       "       [5.1, 2.3, 6.9, 3.1],\n",
       "       [4.7, 1.4, 7. , 3.2],\n",
       "       [5.9, 2.3, 6.8, 3.2],\n",
       "       [4.9, 1.8, 6.1, 3. ],\n",
       "       [4.6, 1.5, 6.5, 2.8],\n",
       "       [5.8, 1.8, 6.7, 2.5],\n",
       "       [3.3, 1. , 5. , 2.3],\n",
       "       [5. , 1.7, 6.7, 3. ],\n",
       "       [1.4, 0.2, 5.5, 4.2],\n",
       "       [4.6, 1.3, 6.6, 2.9],\n",
       "       [5.1, 1.9, 5.8, 2.7],\n",
       "       [1.1, 0.1, 4.3, 3. ],\n",
       "       [5.8, 2.2, 6.5, 3. ],\n",
       "       [4.7, 1.4, 6.1, 2.9],\n",
       "       [1.4, 0.2, 5. , 3.3],\n",
       "       [5. , 1.9, 6.3, 2.5],\n",
       "       [5. , 1.5, 6. , 2.2],\n",
       "       [1.5, 0.3, 5.1, 3.8],\n",
       "       [5.8, 1.6, 7.2, 3. ],\n",
       "       [1.7, 0.3, 5.7, 3.8],\n",
       "       [1.4, 0.1, 4.8, 3. ],\n",
       "       [5.7, 2.3, 6.9, 3.2],\n",
       "       [5.7, 2.1, 6.7, 3.3],\n",
       "       [4. , 1. , 6. , 2.2],\n",
       "       [5.6, 2.1, 6.4, 2.8],\n",
       "       [4.6, 1.4, 6.1, 3. ],\n",
       "       [6.7, 2.2, 7.7, 3.8],\n",
       "       [1.3, 0.3, 5. , 3.5],\n",
       "       [3.9, 1.4, 5.2, 2.7],\n",
       "       [1. , 0.2, 4.6, 3.6],\n",
       "       [4.4, 1.4, 6.7, 3.1],\n",
       "       [6. , 1.8, 7.2, 3.2],\n",
       "       [4.7, 1.6, 6.3, 3.3],\n",
       "       [5.1, 1.8, 5.9, 3. ],\n",
       "       [4. , 1.2, 5.8, 2.6],\n",
       "       [4.8, 1.8, 6.2, 2.8]])"
      ]
     },
     "execution_count": 39,
     "metadata": {},
     "output_type": "execute_result"
    }
   ],
   "source": [
    "X_train"
   ]
  },
  {
   "cell_type": "markdown",
   "metadata": {},
   "source": [
    "## Building the Model\n",
    "\n",
    "We can now build the decision tree model using scikit-learn's **DecisionTreeClassifier class**:\n"
   ]
  },
  {
   "cell_type": "code",
   "execution_count": 8,
   "metadata": {},
   "outputs": [
    {
     "data": {
      "text/html": [
       "<style>#sk-container-id-1 {color: black;background-color: white;}#sk-container-id-1 pre{padding: 0;}#sk-container-id-1 div.sk-toggleable {background-color: white;}#sk-container-id-1 label.sk-toggleable__label {cursor: pointer;display: block;width: 100%;margin-bottom: 0;padding: 0.3em;box-sizing: border-box;text-align: center;}#sk-container-id-1 label.sk-toggleable__label-arrow:before {content: \"▸\";float: left;margin-right: 0.25em;color: #696969;}#sk-container-id-1 label.sk-toggleable__label-arrow:hover:before {color: black;}#sk-container-id-1 div.sk-estimator:hover label.sk-toggleable__label-arrow:before {color: black;}#sk-container-id-1 div.sk-toggleable__content {max-height: 0;max-width: 0;overflow: hidden;text-align: left;background-color: #f0f8ff;}#sk-container-id-1 div.sk-toggleable__content pre {margin: 0.2em;color: black;border-radius: 0.25em;background-color: #f0f8ff;}#sk-container-id-1 input.sk-toggleable__control:checked~div.sk-toggleable__content {max-height: 200px;max-width: 100%;overflow: auto;}#sk-container-id-1 input.sk-toggleable__control:checked~label.sk-toggleable__label-arrow:before {content: \"▾\";}#sk-container-id-1 div.sk-estimator input.sk-toggleable__control:checked~label.sk-toggleable__label {background-color: #d4ebff;}#sk-container-id-1 div.sk-label input.sk-toggleable__control:checked~label.sk-toggleable__label {background-color: #d4ebff;}#sk-container-id-1 input.sk-hidden--visually {border: 0;clip: rect(1px 1px 1px 1px);clip: rect(1px, 1px, 1px, 1px);height: 1px;margin: -1px;overflow: hidden;padding: 0;position: absolute;width: 1px;}#sk-container-id-1 div.sk-estimator {font-family: monospace;background-color: #f0f8ff;border: 1px dotted black;border-radius: 0.25em;box-sizing: border-box;margin-bottom: 0.5em;}#sk-container-id-1 div.sk-estimator:hover {background-color: #d4ebff;}#sk-container-id-1 div.sk-parallel-item::after {content: \"\";width: 100%;border-bottom: 1px solid gray;flex-grow: 1;}#sk-container-id-1 div.sk-label:hover label.sk-toggleable__label {background-color: #d4ebff;}#sk-container-id-1 div.sk-serial::before {content: \"\";position: absolute;border-left: 1px solid gray;box-sizing: border-box;top: 0;bottom: 0;left: 50%;z-index: 0;}#sk-container-id-1 div.sk-serial {display: flex;flex-direction: column;align-items: center;background-color: white;padding-right: 0.2em;padding-left: 0.2em;position: relative;}#sk-container-id-1 div.sk-item {position: relative;z-index: 1;}#sk-container-id-1 div.sk-parallel {display: flex;align-items: stretch;justify-content: center;background-color: white;position: relative;}#sk-container-id-1 div.sk-item::before, #sk-container-id-1 div.sk-parallel-item::before {content: \"\";position: absolute;border-left: 1px solid gray;box-sizing: border-box;top: 0;bottom: 0;left: 50%;z-index: -1;}#sk-container-id-1 div.sk-parallel-item {display: flex;flex-direction: column;z-index: 1;position: relative;background-color: white;}#sk-container-id-1 div.sk-parallel-item:first-child::after {align-self: flex-end;width: 50%;}#sk-container-id-1 div.sk-parallel-item:last-child::after {align-self: flex-start;width: 50%;}#sk-container-id-1 div.sk-parallel-item:only-child::after {width: 0;}#sk-container-id-1 div.sk-dashed-wrapped {border: 1px dashed gray;margin: 0 0.4em 0.5em 0.4em;box-sizing: border-box;padding-bottom: 0.4em;background-color: white;}#sk-container-id-1 div.sk-label label {font-family: monospace;font-weight: bold;display: inline-block;line-height: 1.2em;}#sk-container-id-1 div.sk-label-container {text-align: center;}#sk-container-id-1 div.sk-container {/* jupyter's `normalize.less` sets `[hidden] { display: none; }` but bootstrap.min.css set `[hidden] { display: none !important; }` so we also need the `!important` here to be able to override the default hidden behavior on the sphinx rendered scikit-learn.org. See: https://github.com/scikit-learn/scikit-learn/issues/21755 */display: inline-block !important;position: relative;}#sk-container-id-1 div.sk-text-repr-fallback {display: none;}</style><div id=\"sk-container-id-1\" class=\"sk-top-container\"><div class=\"sk-text-repr-fallback\"><pre>DecisionTreeClassifier(criterion=&#x27;entropy&#x27;, random_state=42)</pre><b>In a Jupyter environment, please rerun this cell to show the HTML representation or trust the notebook. <br />On GitHub, the HTML representation is unable to render, please try loading this page with nbviewer.org.</b></div><div class=\"sk-container\" hidden><div class=\"sk-item\"><div class=\"sk-estimator sk-toggleable\"><input class=\"sk-toggleable__control sk-hidden--visually\" id=\"sk-estimator-id-1\" type=\"checkbox\" checked><label for=\"sk-estimator-id-1\" class=\"sk-toggleable__label sk-toggleable__label-arrow\">DecisionTreeClassifier</label><div class=\"sk-toggleable__content\"><pre>DecisionTreeClassifier(criterion=&#x27;entropy&#x27;, random_state=42)</pre></div></div></div></div></div>"
      ],
      "text/plain": [
       "DecisionTreeClassifier(criterion='entropy', random_state=42)"
      ]
     },
     "execution_count": 8,
     "metadata": {},
     "output_type": "execute_result"
    }
   ],
   "source": [
    "# Create a decision tree classifier object \n",
    "tree_clf = DecisionTreeClassifier(criterion='entropy', random_state=42) \n",
    "# Fit the classifier to the training data \n",
    "tree_clf.fit(X_train, y_train)"
   ]
  },
  {
   "cell_type": "markdown",
   "metadata": {},
   "source": [
    "## Evaluating the Model\n",
    "\n",
    "We can evaluate the performance of the model on the test set using scikit-learn's *accuracy_score* function:"
   ]
  },
  {
   "cell_type": "code",
   "execution_count": 9,
   "metadata": {},
   "outputs": [
    {
     "name": "stdout",
     "output_type": "stream",
     "text": [
      "Accuracy: 1.00\n"
     ]
    }
   ],
   "source": [
    "# Make predictions on the test set \n",
    "y_pred = tree_clf.predict(X_test) \n",
    "# Calculate the accuracy of the model \n",
    "accuracy = accuracy_score(y_test, y_pred) \n",
    "print(\"Accuracy: {:.2f}\".format(accuracy))"
   ]
  },
  {
   "cell_type": "markdown",
   "metadata": {},
   "source": [
    "## Visualizing the Model\n",
    "\n",
    "We can visualize the decision tree using scikit-learn's *plot_tree* function:\n"
   ]
  },
  {
   "cell_type": "code",
   "execution_count": 10,
   "metadata": {},
   "outputs": [
    {
     "data": {
      "text/plain": [
       "[Text(0.5, 0.9166666666666666, 'X[0] <= 2.6\\nentropy = 1.583\\nsamples = 120\\nvalue = [37, 41, 42]'),\n",
       " Text(0.4230769230769231, 0.75, 'entropy = 0.0\\nsamples = 37\\nvalue = [37, 0, 0]'),\n",
       " Text(0.5769230769230769, 0.75, 'X[1] <= 1.75\\nentropy = 1.0\\nsamples = 83\\nvalue = [0, 41, 42]'),\n",
       " Text(0.3076923076923077, 0.5833333333333334, 'X[0] <= 4.95\\nentropy = 0.503\\nsamples = 45\\nvalue = [0, 40, 5]'),\n",
       " Text(0.15384615384615385, 0.4166666666666667, 'X[1] <= 1.65\\nentropy = 0.172\\nsamples = 39\\nvalue = [0, 38, 1]'),\n",
       " Text(0.07692307692307693, 0.25, 'entropy = 0.0\\nsamples = 38\\nvalue = [0, 38, 0]'),\n",
       " Text(0.23076923076923078, 0.25, 'entropy = 0.0\\nsamples = 1\\nvalue = [0, 0, 1]'),\n",
       " Text(0.46153846153846156, 0.4166666666666667, 'X[1] <= 1.55\\nentropy = 0.918\\nsamples = 6\\nvalue = [0, 2, 4]'),\n",
       " Text(0.38461538461538464, 0.25, 'entropy = 0.0\\nsamples = 3\\nvalue = [0, 0, 3]'),\n",
       " Text(0.5384615384615384, 0.25, 'X[2] <= 6.95\\nentropy = 0.918\\nsamples = 3\\nvalue = [0, 2, 1]'),\n",
       " Text(0.46153846153846156, 0.08333333333333333, 'entropy = 0.0\\nsamples = 2\\nvalue = [0, 2, 0]'),\n",
       " Text(0.6153846153846154, 0.08333333333333333, 'entropy = 0.0\\nsamples = 1\\nvalue = [0, 0, 1]'),\n",
       " Text(0.8461538461538461, 0.5833333333333334, 'X[0] <= 4.85\\nentropy = 0.176\\nsamples = 38\\nvalue = [0, 1, 37]'),\n",
       " Text(0.7692307692307693, 0.4166666666666667, 'X[2] <= 5.95\\nentropy = 0.918\\nsamples = 3\\nvalue = [0, 1, 2]'),\n",
       " Text(0.6923076923076923, 0.25, 'entropy = 0.0\\nsamples = 1\\nvalue = [0, 1, 0]'),\n",
       " Text(0.8461538461538461, 0.25, 'entropy = 0.0\\nsamples = 2\\nvalue = [0, 0, 2]'),\n",
       " Text(0.9230769230769231, 0.4166666666666667, 'entropy = 0.0\\nsamples = 35\\nvalue = [0, 0, 35]')]"
      ]
     },
     "execution_count": 10,
     "metadata": {},
     "output_type": "execute_result"
    },
    {
     "data": {
      "image/png": "[encoded data removed]",
      "text/plain": [
       "<Figure size 640x480 with 1 Axes>"
      ]
     },
     "metadata": {},
     "output_type": "display_data"
    }
   ],
   "source": [
    "# Visualize the decision tree \n",
    "plot_tree(tree_clf)"
   ]
  },
  {
   "cell_type": "markdown",
   "metadata": {},
   "source": [
    "Import with pip the package <a href=\"https://pypi.org/project/dtreeviz/\">dtreeviz</a> to visualise nicely the tree."
   ]
  },
  {
   "cell_type": "code",
   "execution_count": 30,
   "metadata": {},
   "outputs": [
    {
     "name": "stderr",
     "output_type": "stream",
     "text": [
      "C:\\Users\\narci\\AppData\\Local\\Temp\\ipykernel_12960\\3975692858.py:6: DeprecationWarning: dtreeviz() function is deprecated starting from version 2.0. \n",
      " For the same functionality, please use this code instead: \n",
      " m = dtreeviz.model(...) \n",
      " m.view()\n"
     ]
    },
    {
     "ename": "TypeError",
     "evalue": "'int' object is not subscriptable",
     "output_type": "error",
     "traceback": [
      "\u001b[1;31m---------------------------------------------------------------------------\u001b[0m",
      "\u001b[1;31mTypeError\u001b[0m                                 Traceback (most recent call last)",
      "Cell \u001b[1;32mIn[30], line 6\u001b[0m\n\u001b[0;32m      3\u001b[0m features \u001b[38;5;241m=\u001b[39m df_iris\u001b[38;5;241m.\u001b[39mdrop(\u001b[38;5;124m'\u001b[39m\u001b[38;5;124miris_name\u001b[39m\u001b[38;5;124m'\u001b[39m, axis\u001b[38;5;241m=\u001b[39m\u001b[38;5;241m1\u001b[39m)\n\u001b[0;32m      4\u001b[0m target \u001b[38;5;241m=\u001b[39m df_iris[\u001b[38;5;124m'\u001b[39m\u001b[38;5;124miris_name\u001b[39m\u001b[38;5;124m'\u001b[39m]\n\u001b[1;32m----> 6\u001b[0m viz \u001b[38;5;241m=\u001b[39m dtreeviz(tree_clf, \n\u001b[0;32m      7\u001b[0m                features,\n\u001b[0;32m      8\u001b[0m                target,\n\u001b[0;32m      9\u001b[0m                target_name\u001b[38;5;241m=\u001b[39m\u001b[38;5;124m'\u001b[39m\u001b[38;5;124miris_name\u001b[39m\u001b[38;5;124m'\u001b[39m,\n\u001b[0;32m     10\u001b[0m                feature_names\u001b[38;5;241m=\u001b[39mfeatures\u001b[38;5;241m.\u001b[39mcolumns, \n\u001b[0;32m     11\u001b[0m                class_names\u001b[38;5;241m=\u001b[39m[\u001b[38;5;124m\"\u001b[39m\u001b[38;5;124msetosa\u001b[39m\u001b[38;5;124m\"\u001b[39m, \u001b[38;5;124m\"\u001b[39m\u001b[38;5;124mversicolor\u001b[39m\u001b[38;5;124m\"\u001b[39m, \u001b[38;5;124m\"\u001b[39m\u001b[38;5;124mvirginica\u001b[39m\u001b[38;5;124m\"\u001b[39m],\n\u001b[0;32m     12\u001b[0m                scale\u001b[38;5;241m=\u001b[39m\u001b[38;5;241m2\u001b[39m,\n\u001b[0;32m     13\u001b[0m                orientation\u001b[38;5;241m=\u001b[39m\u001b[38;5;124m'\u001b[39m\u001b[38;5;124mLR\u001b[39m\u001b[38;5;124m'\u001b[39m\n\u001b[0;32m     14\u001b[0m                )\n\u001b[0;32m     15\u001b[0m viz\n",
      "File \u001b[1;32m~\\anaconda3\\envs\\AI\\Lib\\site-packages\\dtreeviz\\compatibility.py:254\u001b[0m, in \u001b[0;36mdtreeviz\u001b[1;34m(tree_model, X_train, y_train, feature_names, target_name, class_names, tree_index, precision, orientation, instance_orientation, show_root_edge_labels, show_node_labels, show_just_path, fancy, histtype, highlight_path, X, max_X_features_LR, max_X_features_TD, depth_range_to_display, label_fontsize, ticks_fontsize, fontname, title, title_fontsize, colors, scale)\u001b[0m\n\u001b[0;32m    251\u001b[0m shadow_tree \u001b[38;5;241m=\u001b[39m ShadowDecTree\u001b[38;5;241m.\u001b[39mget_shadow_tree(tree_model, X_train, y_train, feature_names, target_name, class_names,\n\u001b[0;32m    252\u001b[0m                                             tree_index)\n\u001b[0;32m    253\u001b[0m model \u001b[38;5;241m=\u001b[39m DTreeVizAPI(shadow_tree)\n\u001b[1;32m--> 254\u001b[0m \u001b[38;5;28;01mreturn\u001b[39;00m model\u001b[38;5;241m.\u001b[39mview(precision, orientation,\n\u001b[0;32m    255\u001b[0m                   instance_orientation,\n\u001b[0;32m    256\u001b[0m                   show_root_edge_labels, show_node_labels, show_just_path, fancy, histtype, highlight_path, X,\n\u001b[0;32m    257\u001b[0m                   max_X_features_LR, max_X_features_TD, depth_range_to_display, label_fontsize, ticks_fontsize,\n\u001b[0;32m    258\u001b[0m                   fontname, title, title_fontsize, colors\u001b[38;5;241m=\u001b[39mcolors, scale\u001b[38;5;241m=\u001b[39mscale)\n",
      "File \u001b[1;32m~\\anaconda3\\envs\\AI\\Lib\\site-packages\\dtreeviz\\trees.py:523\u001b[0m, in \u001b[0;36mDTreeVizAPI.view\u001b[1;34m(self, precision, orientation, instance_orientation, show_root_edge_labels, show_node_labels, show_just_path, fancy, histtype, leaftype, highlight_path, x, max_X_features_LR, max_X_features_TD, depth_range_to_display, label_fontsize, ticks_fontsize, fontname, title, title_fontsize, colors, scale)\u001b[0m\n\u001b[0;32m    521\u001b[0m tmp \u001b[38;5;241m=\u001b[39m tempfile\u001b[38;5;241m.\u001b[39mgettempdir()\n\u001b[0;32m    522\u001b[0m \u001b[38;5;28;01mif\u001b[39;00m x \u001b[38;5;129;01mis\u001b[39;00m \u001b[38;5;129;01mnot\u001b[39;00m \u001b[38;5;28;01mNone\u001b[39;00m:\n\u001b[1;32m--> 523\u001b[0m     path \u001b[38;5;241m=\u001b[39m \u001b[38;5;28mself\u001b[39m\u001b[38;5;241m.\u001b[39mshadow_tree\u001b[38;5;241m.\u001b[39mpredict_path(x)\n\u001b[0;32m    524\u001b[0m     highlight_path \u001b[38;5;241m=\u001b[39m [n\u001b[38;5;241m.\u001b[39mid \u001b[38;5;28;01mfor\u001b[39;00m n \u001b[38;5;129;01min\u001b[39;00m path]\n\u001b[0;32m    526\u001b[0m color_values \u001b[38;5;241m=\u001b[39m colors[\u001b[38;5;124m'\u001b[39m\u001b[38;5;124mclasses\u001b[39m\u001b[38;5;124m'\u001b[39m][n_classes]\n",
      "File \u001b[1;32m~\\anaconda3\\envs\\AI\\Lib\\site-packages\\dtreeviz\\models\\shadow_decision_tree.py:340\u001b[0m, in \u001b[0;36mShadowDecTree.predict_path\u001b[1;34m(self, x)\u001b[0m\n\u001b[0;32m    337\u001b[0m     \u001b[38;5;28;01mreturn\u001b[39;00m walk(t\u001b[38;5;241m.\u001b[39mright, x, path)\n\u001b[0;32m    339\u001b[0m path \u001b[38;5;241m=\u001b[39m []\n\u001b[1;32m--> 340\u001b[0m walk(\u001b[38;5;28mself\u001b[39m\u001b[38;5;241m.\u001b[39mroot, x, path)\n\u001b[0;32m    341\u001b[0m \u001b[38;5;28;01mreturn\u001b[39;00m path\n",
      "File \u001b[1;32m~\\anaconda3\\envs\\AI\\Lib\\site-packages\\dtreeviz\\models\\shadow_decision_tree.py:335\u001b[0m, in \u001b[0;36mShadowDecTree.predict_path.<locals>.walk\u001b[1;34m(t, x, path)\u001b[0m\n\u001b[0;32m    333\u001b[0m \u001b[38;5;28;01mif\u001b[39;00m t\u001b[38;5;241m.\u001b[39misleaf():\n\u001b[0;32m    334\u001b[0m     \u001b[38;5;28;01mreturn\u001b[39;00m \u001b[38;5;28;01mNone\u001b[39;00m\n\u001b[1;32m--> 335\u001b[0m \u001b[38;5;28;01mif\u001b[39;00m \u001b[38;5;28mself\u001b[39m\u001b[38;5;241m.\u001b[39mshouldGoLeftAtSplit(t\u001b[38;5;241m.\u001b[39mid, x[t\u001b[38;5;241m.\u001b[39mfeature()]):\n\u001b[0;32m    336\u001b[0m     \u001b[38;5;28;01mreturn\u001b[39;00m walk(t\u001b[38;5;241m.\u001b[39mleft, x, path)\n\u001b[0;32m    337\u001b[0m \u001b[38;5;28;01mreturn\u001b[39;00m walk(t\u001b[38;5;241m.\u001b[39mright, x, path)\n",
      "\u001b[1;31mTypeError\u001b[0m: 'int' object is not subscriptable"
     ]
    }
   ],
   "source": [
    "from dtreeviz import dtreeviz\n",
    "\n",
    "features = df_iris.drop('iris_name', axis=1)\n",
    "target = df_iris['iris_name']\n",
    "\n",
    "viz = dtreeviz(tree_clf, \n",
    "               features,\n",
    "               target,\n",
    "               target_name='iris_name',\n",
    "               feature_names=features.columns, \n",
    "               class_names=[\"setosa\", \"versicolor\", \"virginica\"],\n",
    "               scale=2,\n",
    "               orientation='LR'\n",
    "               )\n",
    "viz"
   ]
  },
  {
   "cell_type": "markdown",
   "metadata": {},
   "source": [
    "### Tuning the Model\n",
    "\n",
    "We can tune the hyperparameters of the decision tree model to improve its performance. \n",
    "\n",
    "One important hyperparameter is the maximum depth of the tree. \n",
    "\n",
    "We can use scikit-learn's GridSearchCV function to search over different values of the maximum depth and find the best one:"
   ]
  },
  {
   "cell_type": "code",
   "execution_count": 31,
   "metadata": {},
   "outputs": [
    {
     "name": "stdout",
     "output_type": "stream",
     "text": [
      "Best hyperparameters: {'max_depth': 3}\n"
     ]
    }
   ],
   "source": [
    "# Define the hyperparameters to search over \n",
    "param_grid = {\"max_depth\": [1, 2, 3, 4, 5, 6, 7]} \n",
    "# Create a grid search object \n",
    "grid_search = GridSearchCV(tree_clf, param_grid, cv=5) \n",
    "# Fit the grid search object to the training data \n",
    "grid_search.fit(X_train, y_train) \n",
    "# Print the best hyperparameters found by the grid search \n",
    "print(\"Best hyperparameters:\", grid_search.best_params_)"
   ]
  },
  {
   "cell_type": "markdown",
   "metadata": {},
   "source": [
    "We can now create a new decision tree classifier object with the best hyperparameters and fit it to the training data:\n"
   ]
  },
  {
   "cell_type": "code",
   "execution_count": 32,
   "metadata": {},
   "outputs": [
    {
     "data": {
      "text/html": [
       "<style>#sk-container-id-3 {color: black;background-color: white;}#sk-container-id-3 pre{padding: 0;}#sk-container-id-3 div.sk-toggleable {background-color: white;}#sk-container-id-3 label.sk-toggleable__label {cursor: pointer;display: block;width: 100%;margin-bottom: 0;padding: 0.3em;box-sizing: border-box;text-align: center;}#sk-container-id-3 label.sk-toggleable__label-arrow:before {content: \"▸\";float: left;margin-right: 0.25em;color: #696969;}#sk-container-id-3 label.sk-toggleable__label-arrow:hover:before {color: black;}#sk-container-id-3 div.sk-estimator:hover label.sk-toggleable__label-arrow:before {color: black;}#sk-container-id-3 div.sk-toggleable__content {max-height: 0;max-width: 0;overflow: hidden;text-align: left;background-color: #f0f8ff;}#sk-container-id-3 div.sk-toggleable__content pre {margin: 0.2em;color: black;border-radius: 0.25em;background-color: #f0f8ff;}#sk-container-id-3 input.sk-toggleable__control:checked~div.sk-toggleable__content {max-height: 200px;max-width: 100%;overflow: auto;}#sk-container-id-3 input.sk-toggleable__control:checked~label.sk-toggleable__label-arrow:before {content: \"▾\";}#sk-container-id-3 div.sk-estimator input.sk-toggleable__control:checked~label.sk-toggleable__label {background-color: #d4ebff;}#sk-container-id-3 div.sk-label input.sk-toggleable__control:checked~label.sk-toggleable__label {background-color: #d4ebff;}#sk-container-id-3 input.sk-hidden--visually {border: 0;clip: rect(1px 1px 1px 1px);clip: rect(1px, 1px, 1px, 1px);height: 1px;margin: -1px;overflow: hidden;padding: 0;position: absolute;width: 1px;}#sk-container-id-3 div.sk-estimator {font-family: monospace;background-color: #f0f8ff;border: 1px dotted black;border-radius: 0.25em;box-sizing: border-box;margin-bottom: 0.5em;}#sk-container-id-3 div.sk-estimator:hover {background-color: #d4ebff;}#sk-container-id-3 div.sk-parallel-item::after {content: \"\";width: 100%;border-bottom: 1px solid gray;flex-grow: 1;}#sk-container-id-3 div.sk-label:hover label.sk-toggleable__label {background-color: #d4ebff;}#sk-container-id-3 div.sk-serial::before {content: \"\";position: absolute;border-left: 1px solid gray;box-sizing: border-box;top: 0;bottom: 0;left: 50%;z-index: 0;}#sk-container-id-3 div.sk-serial {display: flex;flex-direction: column;align-items: center;background-color: white;padding-right: 0.2em;padding-left: 0.2em;position: relative;}#sk-container-id-3 div.sk-item {position: relative;z-index: 1;}#sk-container-id-3 div.sk-parallel {display: flex;align-items: stretch;justify-content: center;background-color: white;position: relative;}#sk-container-id-3 div.sk-item::before, #sk-container-id-3 div.sk-parallel-item::before {content: \"\";position: absolute;border-left: 1px solid gray;box-sizing: border-box;top: 0;bottom: 0;left: 50%;z-index: -1;}#sk-container-id-3 div.sk-parallel-item {display: flex;flex-direction: column;z-index: 1;position: relative;background-color: white;}#sk-container-id-3 div.sk-parallel-item:first-child::after {align-self: flex-end;width: 50%;}#sk-container-id-3 div.sk-parallel-item:last-child::after {align-self: flex-start;width: 50%;}#sk-container-id-3 div.sk-parallel-item:only-child::after {width: 0;}#sk-container-id-3 div.sk-dashed-wrapped {border: 1px dashed gray;margin: 0 0.4em 0.5em 0.4em;box-sizing: border-box;padding-bottom: 0.4em;background-color: white;}#sk-container-id-3 div.sk-label label {font-family: monospace;font-weight: bold;display: inline-block;line-height: 1.2em;}#sk-container-id-3 div.sk-label-container {text-align: center;}#sk-container-id-3 div.sk-container {/* jupyter's `normalize.less` sets `[hidden] { display: none; }` but bootstrap.min.css set `[hidden] { display: none !important; }` so we also need the `!important` here to be able to override the default hidden behavior on the sphinx rendered scikit-learn.org. See: https://github.com/scikit-learn/scikit-learn/issues/21755 */display: inline-block !important;position: relative;}#sk-container-id-3 div.sk-text-repr-fallback {display: none;}</style><div id=\"sk-container-id-3\" class=\"sk-top-container\"><div class=\"sk-text-repr-fallback\"><pre>DecisionTreeClassifier(criterion=&#x27;entropy&#x27;, max_depth=3, random_state=42)</pre><b>In a Jupyter environment, please rerun this cell to show the HTML representation or trust the notebook. <br />On GitHub, the HTML representation is unable to render, please try loading this page with nbviewer.org.</b></div><div class=\"sk-container\" hidden><div class=\"sk-item\"><div class=\"sk-estimator sk-toggleable\"><input class=\"sk-toggleable__control sk-hidden--visually\" id=\"sk-estimator-id-3\" type=\"checkbox\" checked><label for=\"sk-estimator-id-3\" class=\"sk-toggleable__label sk-toggleable__label-arrow\">DecisionTreeClassifier</label><div class=\"sk-toggleable__content\"><pre>DecisionTreeClassifier(criterion=&#x27;entropy&#x27;, max_depth=3, random_state=42)</pre></div></div></div></div></div>"
      ],
      "text/plain": [
       "DecisionTreeClassifier(criterion='entropy', max_depth=3, random_state=42)"
      ]
     },
     "execution_count": 32,
     "metadata": {},
     "output_type": "execute_result"
    }
   ],
   "source": [
    "# Create a new decision tree classifier object with the best hyperparameters \n",
    "tree_clf_tuned = DecisionTreeClassifier(criterion='entropy', max_depth=3, random_state=42) \n",
    "# Fit the classifier to the training data \n",
    "tree_clf_tuned.fit(X_train, y_train)\n"
   ]
  },
  {
   "cell_type": "code",
   "execution_count": 13,
   "metadata": {},
   "outputs": [
    {
     "data": {
      "text/plain": [
       "[Text(0.375, 0.875, 'X[0] <= 2.6\\nentropy = 1.583\\nsamples = 120\\nvalue = [37, 41, 42]'),\n",
       " Text(0.25, 0.625, 'entropy = 0.0\\nsamples = 37\\nvalue = [37, 0, 0]'),\n",
       " Text(0.5, 0.625, 'X[1] <= 1.75\\nentropy = 1.0\\nsamples = 83\\nvalue = [0, 41, 42]'),\n",
       " Text(0.25, 0.375, 'X[0] <= 4.95\\nentropy = 0.503\\nsamples = 45\\nvalue = [0, 40, 5]'),\n",
       " Text(0.125, 0.125, 'entropy = 0.172\\nsamples = 39\\nvalue = [0, 38, 1]'),\n",
       " Text(0.375, 0.125, 'entropy = 0.918\\nsamples = 6\\nvalue = [0, 2, 4]'),\n",
       " Text(0.75, 0.375, 'X[0] <= 4.85\\nentropy = 0.176\\nsamples = 38\\nvalue = [0, 1, 37]'),\n",
       " Text(0.625, 0.125, 'entropy = 0.918\\nsamples = 3\\nvalue = [0, 1, 2]'),\n",
       " Text(0.875, 0.125, 'entropy = 0.0\\nsamples = 35\\nvalue = [0, 0, 35]')]"
      ]
     },
     "execution_count": 13,
     "metadata": {},
     "output_type": "execute_result"
    },
    {
     "data": {
      "image/png": "[encoded data removed]",
      "text/plain": [
       "<Figure size 640x480 with 1 Axes>"
      ]
     },
     "metadata": {},
     "output_type": "display_data"
    }
   ],
   "source": [
    "# Visualize the decision tree \n",
    "plot_tree(tree_clf_tuned)"
   ]
  },
  {
   "cell_type": "markdown",
   "metadata": {},
   "source": [
    "<font color='brown' size = '14pt' face=\"Century Schoolbook\"><b>Feature selection</b></font> "
   ]
  },
  {
   "cell_type": "markdown",
   "metadata": {},
   "source": [
    "In practice prior to constructing the decision tree, it may be beneficial to perform dimensionality reduction techniques such as a Feature selection. This can enhance the likelihood of the decision tree to identify discriminative features.\n",
    "\n",
    "One way to do this is to examine the correlation between the variables in our dataset by plotting the Pearson Correlation among all attributes. We will use the full, clean dataset for this with the labels encoded. \n",
    "\n",
    "Recall: The *Pearson correlation coefficient (r)* is the most common way of measuring a linear correlation."
   ]
  },
  {
   "cell_type": "code",
   "execution_count": 14,
   "metadata": {},
   "outputs": [
    {
     "data": {
      "text/html": [
       "<div>\n",
       "<style scoped>\n",
       "    .dataframe tbody tr th:only-of-type {\n",
       "        vertical-align: middle;\n",
       "    }\n",
       "\n",
       "    .dataframe tbody tr th {\n",
       "        vertical-align: top;\n",
       "    }\n",
       "\n",
       "    .dataframe thead th {\n",
       "        text-align: right;\n",
       "    }\n",
       "</style>\n",
       "<table border=\"1\" class=\"dataframe\">\n",
       "  <thead>\n",
       "    <tr style=\"text-align: right;\">\n",
       "      <th></th>\n",
       "      <th>sepal length (cm)</th>\n",
       "      <th>sepal width (cm)</th>\n",
       "      <th>petal length (cm)</th>\n",
       "      <th>petal width (cm)</th>\n",
       "      <th>iris_name</th>\n",
       "    </tr>\n",
       "  </thead>\n",
       "  <tbody>\n",
       "    <tr>\n",
       "      <th>0</th>\n",
       "      <td>5.1</td>\n",
       "      <td>3.5</td>\n",
       "      <td>1.4</td>\n",
       "      <td>0.2</td>\n",
       "      <td>0</td>\n",
       "    </tr>\n",
       "    <tr>\n",
       "      <th>1</th>\n",
       "      <td>4.9</td>\n",
       "      <td>3.0</td>\n",
       "      <td>1.4</td>\n",
       "      <td>0.2</td>\n",
       "      <td>0</td>\n",
       "    </tr>\n",
       "    <tr>\n",
       "      <th>2</th>\n",
       "      <td>4.7</td>\n",
       "      <td>3.2</td>\n",
       "      <td>1.3</td>\n",
       "      <td>0.2</td>\n",
       "      <td>0</td>\n",
       "    </tr>\n",
       "    <tr>\n",
       "      <th>3</th>\n",
       "      <td>4.6</td>\n",
       "      <td>3.1</td>\n",
       "      <td>1.5</td>\n",
       "      <td>0.2</td>\n",
       "      <td>0</td>\n",
       "    </tr>\n",
       "    <tr>\n",
       "      <th>4</th>\n",
       "      <td>5.0</td>\n",
       "      <td>3.6</td>\n",
       "      <td>1.4</td>\n",
       "      <td>0.2</td>\n",
       "      <td>0</td>\n",
       "    </tr>\n",
       "  </tbody>\n",
       "</table>\n",
       "</div>"
      ],
      "text/plain": [
       "   sepal length (cm)  sepal width (cm)  petal length (cm)  petal width (cm)  \\\n",
       "0                5.1               3.5                1.4               0.2   \n",
       "1                4.9               3.0                1.4               0.2   \n",
       "2                4.7               3.2                1.3               0.2   \n",
       "3                4.6               3.1                1.5               0.2   \n",
       "4                5.0               3.6                1.4               0.2   \n",
       "\n",
       "   iris_name  \n",
       "0          0  \n",
       "1          0  \n",
       "2          0  \n",
       "3          0  \n",
       "4          0  "
      ]
     },
     "execution_count": 14,
     "metadata": {},
     "output_type": "execute_result"
    }
   ],
   "source": [
    "df_clean_iris_set = df_iris.copy()\n",
    "df_clean_iris_set['iris_name']=y\n",
    "df_clean_iris_set.head()"
   ]
  },
  {
   "cell_type": "code",
   "execution_count": 33,
   "metadata": {},
   "outputs": [
    {
     "data": {
      "text/plain": [
       "<Axes: title={'center': 'Pearson Correlation of Features'}>"
      ]
     },
     "execution_count": 33,
     "metadata": {},
     "output_type": "execute_result"
    },
    {
     "data": {
      "image/png": "[encoded data removed]",
      "text/plain": [
       "<Figure size 1200x1200 with 2 Axes>"
      ]
     },
     "metadata": {},
     "output_type": "display_data"
    }
   ],
   "source": [
    "import seaborn as sns\n",
    "colormap = plt.cm.viridis\n",
    "plt.figure(figsize=(12,12))\n",
    "plt.title('Pearson Correlation of Features', y=1.05, size=15)\n",
    "sns.heatmap(df_clean_iris_set.astype(float).corr(),linewidths=0.1,vmax=1.0, square=True, cmap=colormap, linecolor='white', annot=True)"
   ]
  },
  {
   "cell_type": "raw",
   "metadata": {},
   "source": [
    "The initial observation provided by this heatmap is very valuable as it allows for a quick understanding of the predictive power of each feature.\n",
    "\n",
    "It is evident from the heatmap that the *petal length* and *petal width* exhibit the strongest correlations (in absolute terms) with the target classes, with respective values of 0.95 and 0.96.\n",
    "\n",
    "However, it should be noted that these two features also have a very high correlation with each other (0.96, the highest in the dataset), implying that they may be conveying the same information. Consequently, utilizing both of these features as inputs for the same model might not be advisable. \n",
    "\n",
    "If we look up to the example we can see that the column 2 from X (*petal length*) is in the root. Therefore, further exploration and comparison of these features is required."
   ]
  },
  {
   "cell_type": "markdown",
   "metadata": {},
   "source": [
    "### Exercises\n",
    "\n",
    "7. Drop the *petal width* column from the database and create a decision tree in a similar way with the example.\n",
    "\n",
    "8. Find the proper depth and evaluate the score for the decision tree model that you build."
   ]
  },
  {
   "cell_type": "code",
   "execution_count": 3,
   "metadata": {},
   "outputs": [
    {
     "data": {
      "text/html": [
       "<div>\n",
       "<style scoped>\n",
       "    .dataframe tbody tr th:only-of-type {\n",
       "        vertical-align: middle;\n",
       "    }\n",
       "\n",
       "    .dataframe tbody tr th {\n",
       "        vertical-align: top;\n",
       "    }\n",
       "\n",
       "    .dataframe thead th {\n",
       "        text-align: right;\n",
       "    }\n",
       "</style>\n",
       "<table border=\"1\" class=\"dataframe\">\n",
       "  <thead>\n",
       "    <tr style=\"text-align: right;\">\n",
       "      <th></th>\n",
       "      <th>sepal length (cm)</th>\n",
       "      <th>sepal width (cm)</th>\n",
       "      <th>petal length (cm)</th>\n",
       "      <th>petal width (cm)</th>\n",
       "      <th>iris_name</th>\n",
       "    </tr>\n",
       "  </thead>\n",
       "  <tbody>\n",
       "    <tr>\n",
       "      <th>0</th>\n",
       "      <td>5.1</td>\n",
       "      <td>3.5</td>\n",
       "      <td>1.4</td>\n",
       "      <td>0.2</td>\n",
       "      <td>setosa</td>\n",
       "    </tr>\n",
       "    <tr>\n",
       "      <th>1</th>\n",
       "      <td>4.9</td>\n",
       "      <td>3.0</td>\n",
       "      <td>1.4</td>\n",
       "      <td>0.2</td>\n",
       "      <td>setosa</td>\n",
       "    </tr>\n",
       "    <tr>\n",
       "      <th>2</th>\n",
       "      <td>4.7</td>\n",
       "      <td>3.2</td>\n",
       "      <td>1.3</td>\n",
       "      <td>0.2</td>\n",
       "      <td>setosa</td>\n",
       "    </tr>\n",
       "    <tr>\n",
       "      <th>3</th>\n",
       "      <td>4.6</td>\n",
       "      <td>3.1</td>\n",
       "      <td>1.5</td>\n",
       "      <td>0.2</td>\n",
       "      <td>setosa</td>\n",
       "    </tr>\n",
       "    <tr>\n",
       "      <th>4</th>\n",
       "      <td>5.0</td>\n",
       "      <td>3.6</td>\n",
       "      <td>1.4</td>\n",
       "      <td>0.2</td>\n",
       "      <td>setosa</td>\n",
       "    </tr>\n",
       "  </tbody>\n",
       "</table>\n",
       "</div>"
      ],
      "text/plain": [
       "   sepal length (cm)  sepal width (cm)  petal length (cm)  petal width (cm)  \\\n",
       "0                5.1               3.5                1.4               0.2   \n",
       "1                4.9               3.0                1.4               0.2   \n",
       "2                4.7               3.2                1.3               0.2   \n",
       "3                4.6               3.1                1.5               0.2   \n",
       "4                5.0               3.6                1.4               0.2   \n",
       "\n",
       "  iris_name  \n",
       "0    setosa  \n",
       "1    setosa  \n",
       "2    setosa  \n",
       "3    setosa  \n",
       "4    setosa  "
      ]
     },
     "execution_count": 3,
     "metadata": {},
     "output_type": "execute_result"
    }
   ],
   "source": [
    "# your code here\n",
    "import pandas as pd\n",
    "import numpy as np\n",
    "\n",
    "df_iris = pd.read_csv('iris_teach_2.csv')\n",
    "df_iris.dropna(inplace=True)\n",
    "\n",
    "df_iris.head()"
   ]
  },
  {
   "cell_type": "code",
   "execution_count": 4,
   "metadata": {},
   "outputs": [
    {
     "data": {
      "text/plain": [
       "(array([[1.4, 0.2, 5.1, 3.5],\n",
       "        [1.4, 0.2, 4.9, 3. ],\n",
       "        [1.3, 0.2, 4.7, 3.2],\n",
       "        [1.5, 0.2, 4.6, 3.1],\n",
       "        [1.4, 0.2, 5. , 3.6],\n",
       "        [1.7, 0.4, 5.4, 3.9],\n",
       "        [1.4, 0.3, 4.6, 3.4],\n",
       "        [1.5, 0.2, 5. , 3.4],\n",
       "        [1.4, 0.2, 4.4, 2.9],\n",
       "        [1.5, 0.1, 4.9, 3.1],\n",
       "        [1.5, 0.2, 5.4, 3.7],\n",
       "        [1.6, 0.2, 4.8, 3.4],\n",
       "        [1.4, 0.1, 4.8, 3. ],\n",
       "        [1.1, 0.1, 4.3, 3. ],\n",
       "        [1.2, 0.2, 5.8, 4. ],\n",
       "        [1.5, 0.4, 5.7, 4.4],\n",
       "        [1.3, 0.4, 5.4, 3.9],\n",
       "        [1.4, 0.3, 5.1, 3.5],\n",
       "        [1.7, 0.3, 5.7, 3.8],\n",
       "        [1.5, 0.3, 5.1, 3.8],\n",
       "        [1.7, 0.2, 5.4, 3.4],\n",
       "        [1.5, 0.4, 5.1, 3.7],\n",
       "        [1. , 0.2, 4.6, 3.6],\n",
       "        [1.7, 0.5, 5.1, 3.3],\n",
       "        [1.9, 0.2, 4.8, 3.4],\n",
       "        [1.6, 0.2, 5. , 3. ],\n",
       "        [1.6, 0.4, 5. , 3.4],\n",
       "        [1.5, 0.2, 5.2, 3.5],\n",
       "        [1.4, 0.2, 5.2, 3.4],\n",
       "        [1.6, 0.2, 4.7, 3.2],\n",
       "        [1.6, 0.2, 4.8, 3.1],\n",
       "        [1.5, 0.4, 5.4, 3.4],\n",
       "        [1.5, 0.1, 5.2, 4.1],\n",
       "        [1.4, 0.2, 5.5, 4.2],\n",
       "        [1.5, 0.2, 4.9, 3.1],\n",
       "        [1.2, 0.2, 5. , 3.2],\n",
       "        [1.3, 0.2, 5.5, 3.5],\n",
       "        [1.4, 0.1, 4.9, 3.6],\n",
       "        [1.3, 0.2, 4.4, 3. ],\n",
       "        [1.5, 0.2, 5.1, 3.4],\n",
       "        [1.3, 0.3, 5. , 3.5],\n",
       "        [1.3, 0.3, 4.5, 2.3],\n",
       "        [1.3, 0.2, 4.4, 3.2],\n",
       "        [1.6, 0.6, 5. , 3.5],\n",
       "        [1.9, 0.4, 5.1, 3.8],\n",
       "        [1.4, 0.3, 4.8, 3. ],\n",
       "        [1.6, 0.2, 5.1, 3.8],\n",
       "        [1.4, 0.2, 4.6, 3.2],\n",
       "        [1.5, 0.2, 5.3, 3.7],\n",
       "        [1.4, 0.2, 5. , 3.3],\n",
       "        [4.7, 1.4, 7. , 3.2],\n",
       "        [4.5, 1.5, 6.4, 3.2],\n",
       "        [4.9, 1.5, 6.9, 3.1],\n",
       "        [4. , 1.3, 5.5, 2.3],\n",
       "        [4.6, 1.5, 6.5, 2.8],\n",
       "        [4.5, 1.3, 5.7, 2.8],\n",
       "        [4.7, 1.6, 6.3, 3.3],\n",
       "        [3.3, 1. , 4.9, 2.4],\n",
       "        [4.6, 1.3, 6.6, 2.9],\n",
       "        [3.9, 1.4, 5.2, 2.7],\n",
       "        [3.5, 1. , 5. , 2. ],\n",
       "        [4.2, 1.5, 5.9, 3. ],\n",
       "        [4. , 1. , 6. , 2.2],\n",
       "        [4.7, 1.4, 6.1, 2.9],\n",
       "        [3.6, 1.3, 5.6, 2.9],\n",
       "        [4.4, 1.4, 6.7, 3.1],\n",
       "        [4.5, 1.5, 5.6, 3. ],\n",
       "        [4.1, 1. , 5.8, 2.7],\n",
       "        [4.5, 1.5, 6.2, 2.2],\n",
       "        [3.9, 1.1, 5.6, 2.5],\n",
       "        [4.8, 1.8, 5.9, 3.2],\n",
       "        [4. , 1.3, 6.1, 2.8],\n",
       "        [4.9, 1.5, 6.3, 2.5],\n",
       "        [4.7, 1.2, 6.1, 2.8],\n",
       "        [4.3, 1.3, 6.4, 2.9],\n",
       "        [4.4, 1.4, 6.6, 3. ],\n",
       "        [4.8, 1.4, 6.8, 2.8],\n",
       "        [5. , 1.7, 6.7, 3. ],\n",
       "        [4.5, 1.5, 6. , 2.9],\n",
       "        [3.5, 1. , 5.7, 2.6],\n",
       "        [3.8, 1.1, 5.5, 2.4],\n",
       "        [3.7, 1. , 5.5, 2.4],\n",
       "        [3.9, 1.2, 5.8, 2.7],\n",
       "        [5.1, 1.6, 6. , 2.7],\n",
       "        [4.5, 1.5, 5.4, 3. ],\n",
       "        [4.5, 1.6, 6. , 3.4],\n",
       "        [4.7, 1.5, 6.7, 3.1],\n",
       "        [4.4, 1.3, 6.3, 2.3],\n",
       "        [4.1, 1.3, 5.6, 3. ],\n",
       "        [4. , 1.3, 5.5, 2.5],\n",
       "        [4.4, 1.2, 5.5, 2.6],\n",
       "        [4.6, 1.4, 6.1, 3. ],\n",
       "        [4. , 1.2, 5.8, 2.6],\n",
       "        [3.3, 1. , 5. , 2.3],\n",
       "        [4.2, 1.3, 5.6, 2.7],\n",
       "        [4.2, 1.2, 5.7, 3. ],\n",
       "        [4.2, 1.3, 5.7, 2.9],\n",
       "        [4.3, 1.3, 6.2, 2.9],\n",
       "        [3. , 1.1, 5.1, 2.5],\n",
       "        [4.1, 1.3, 5.7, 2.8],\n",
       "        [6. , 2.5, 6.3, 3.3],\n",
       "        [5.1, 1.9, 5.8, 2.7],\n",
       "        [5.9, 2.1, 7.1, 3. ],\n",
       "        [5.6, 1.8, 6.3, 2.9],\n",
       "        [5.8, 2.2, 6.5, 3. ],\n",
       "        [6.6, 2.1, 7.6, 3. ],\n",
       "        [4.5, 1.7, 4.9, 2.5],\n",
       "        [6.3, 1.8, 7.3, 2.9],\n",
       "        [5.8, 1.8, 6.7, 2.5],\n",
       "        [6.1, 2.5, 7.2, 3.6],\n",
       "        [5.1, 2. , 6.5, 3.2],\n",
       "        [5.3, 1.9, 6.4, 2.7],\n",
       "        [5.5, 2.1, 6.8, 3. ],\n",
       "        [5. , 2. , 5.7, 2.5],\n",
       "        [5.1, 2.4, 5.8, 2.8],\n",
       "        [5.3, 2.3, 6.4, 3.2],\n",
       "        [5.5, 1.8, 6.5, 3. ],\n",
       "        [6.7, 2.2, 7.7, 3.8],\n",
       "        [6.9, 2.3, 7.7, 2.6],\n",
       "        [5. , 1.5, 6. , 2.2],\n",
       "        [5.7, 2.3, 6.9, 3.2],\n",
       "        [4.9, 2. , 5.6, 2.8],\n",
       "        [6.7, 2. , 7.7, 2.8],\n",
       "        [4.9, 1.8, 6.3, 2.7],\n",
       "        [5.7, 2.1, 6.7, 3.3],\n",
       "        [6. , 1.8, 7.2, 3.2],\n",
       "        [4.8, 1.8, 6.2, 2.8],\n",
       "        [4.9, 1.8, 6.1, 3. ],\n",
       "        [5.6, 2.1, 6.4, 2.8],\n",
       "        [5.8, 1.6, 7.2, 3. ],\n",
       "        [6.1, 1.9, 7.4, 2.8],\n",
       "        [6.4, 2. , 7.9, 3.8],\n",
       "        [5.6, 2.2, 6.4, 2.8],\n",
       "        [5.1, 1.5, 6.3, 2.8],\n",
       "        [5.6, 1.4, 6.1, 2.6],\n",
       "        [6.1, 2.3, 7.7, 3. ],\n",
       "        [5.6, 2.4, 6.3, 3.4],\n",
       "        [5.5, 1.8, 6.4, 3.1],\n",
       "        [4.8, 1.8, 6. , 3. ],\n",
       "        [5.4, 2.1, 6.9, 3.1],\n",
       "        [5.6, 2.4, 6.7, 3.1],\n",
       "        [5.1, 2.3, 6.9, 3.1],\n",
       "        [5.1, 1.9, 5.8, 2.7],\n",
       "        [5.9, 2.3, 6.8, 3.2],\n",
       "        [5.7, 2.5, 6.7, 3.3],\n",
       "        [5.2, 2.3, 6.7, 3. ],\n",
       "        [5. , 1.9, 6.3, 2.5],\n",
       "        [5.2, 2. , 6.5, 3. ],\n",
       "        [5.4, 2.3, 6.2, 3.4],\n",
       "        [5.1, 1.8, 5.9, 3. ]]),\n",
       " array(['setosa', 'setosa', 'setosa', 'setosa', 'setosa', 'setosa',\n",
       "        'setosa', 'setosa', 'setosa', 'setosa', 'setosa', 'setosa',\n",
       "        'setosa', 'setosa', 'setosa', 'setosa', 'setosa', 'setosa',\n",
       "        'setosa', 'setosa', 'setosa', 'setosa', 'setosa', 'setosa',\n",
       "        'setosa', 'setosa', 'setosa', 'setosa', 'setosa', 'setosa',\n",
       "        'setosa', 'setosa', 'setosa', 'setosa', 'setosa', 'setosa',\n",
       "        'setosa', 'setosa', 'setosa', 'setosa', 'setosa', 'setosa',\n",
       "        'setosa', 'setosa', 'setosa', 'setosa', 'setosa', 'setosa',\n",
       "        'setosa', 'setosa', 'versicolor', 'versicolor', 'versicolor',\n",
       "        'versicolor', 'versicolor', 'versicolor', 'versicolor',\n",
       "        'versicolor', 'versicolor', 'versicolor', 'versicolor',\n",
       "        'versicolor', 'versicolor', 'versicolor', 'versicolor',\n",
       "        'versicolor', 'versicolor', 'versicolor', 'versicolor',\n",
       "        'versicolor', 'versicolor', 'versicolor', 'versicolor',\n",
       "        'versicolor', 'versicolor', 'versicolor', 'versicolor',\n",
       "        'versicolor', 'versicolor', 'versicolor', 'versicolor',\n",
       "        'versicolor', 'versicolor', 'versicolor', 'versicolor',\n",
       "        'versicolor', 'versicolor', 'versicolor', 'versicolor',\n",
       "        'versicolor', 'versicolor', 'versicolor', 'versicolor',\n",
       "        'versicolor', 'versicolor', 'versicolor', 'versicolor',\n",
       "        'versicolor', 'versicolor', 'versicolor', 'virginica', 'virginica',\n",
       "        'virginica', 'virginica', 'virginica', 'virginica', 'virginica',\n",
       "        'virginica', 'virginica', 'virginica', 'virginica', 'virginica',\n",
       "        'virginica', 'virginica', 'virginica', 'virginica', 'virginica',\n",
       "        'virginica', 'virginica', 'virginica', 'virginica', 'virginica',\n",
       "        'virginica', 'virginica', 'virginica', 'virginica', 'virginica',\n",
       "        'virginica', 'virginica', 'virginica', 'virginica', 'virginica',\n",
       "        'virginica', 'virginica', 'virginica', 'virginica', 'virginica',\n",
       "        'virginica', 'virginica', 'virginica', 'virginica', 'virginica',\n",
       "        'virginica', 'virginica', 'virginica', 'virginica', 'virginica',\n",
       "        'virginica', 'virginica', 'virginica'], dtype=object))"
      ]
     },
     "execution_count": 4,
     "metadata": {},
     "output_type": "execute_result"
    }
   ],
   "source": [
    "X = np.array(df_iris[df_iris.columns.difference(['iris_name'])])\n",
    "y = np.array(df_iris['iris_name']) \n",
    "\n",
    "X, y"
   ]
  },
  {
   "cell_type": "code",
   "execution_count": 5,
   "metadata": {},
   "outputs": [
    {
     "data": {
      "text/plain": [
       "array([0, 0, 0, 0, 0, 0, 0, 0, 0, 0, 0, 0, 0, 0, 0, 0, 0, 0, 0, 0, 0, 0,\n",
       "       0, 0, 0, 0, 0, 0, 0, 0, 0, 0, 0, 0, 0, 0, 0, 0, 0, 0, 0, 0, 0, 0,\n",
       "       0, 0, 0, 0, 0, 0, 1, 1, 1, 1, 1, 1, 1, 1, 1, 1, 1, 1, 1, 1, 1, 1,\n",
       "       1, 1, 1, 1, 1, 1, 1, 1, 1, 1, 1, 1, 1, 1, 1, 1, 1, 1, 1, 1, 1, 1,\n",
       "       1, 1, 1, 1, 1, 1, 1, 1, 1, 1, 1, 1, 2, 2, 2, 2, 2, 2, 2, 2, 2, 2,\n",
       "       2, 2, 2, 2, 2, 2, 2, 2, 2, 2, 2, 2, 2, 2, 2, 2, 2, 2, 2, 2, 2, 2,\n",
       "       2, 2, 2, 2, 2, 2, 2, 2, 2, 2, 2, 2, 2, 2, 2, 2, 2, 2])"
      ]
     },
     "execution_count": 5,
     "metadata": {},
     "output_type": "execute_result"
    }
   ],
   "source": [
    "# encoding the labels\n",
    "from sklearn.preprocessing import LabelEncoder\n",
    "\n",
    "label_encoder = LabelEncoder()\n",
    "y = label_encoder.fit_transform(y)\n",
    "y"
   ]
  },
  {
   "cell_type": "code",
   "execution_count": 7,
   "metadata": {},
   "outputs": [],
   "source": [
    "# splitting data\n",
    "from sklearn.model_selection import train_test_split\n",
    "\n",
    "X_train, X_test, y_train, y_test = train_test_split(X, y, test_size=0.2, random_state=9)"
   ]
  },
  {
   "cell_type": "code",
   "execution_count": 8,
   "metadata": {},
   "outputs": [
    {
     "data": {
      "text/html": [
       "<style>#sk-container-id-1 {color: black;background-color: white;}#sk-container-id-1 pre{padding: 0;}#sk-container-id-1 div.sk-toggleable {background-color: white;}#sk-container-id-1 label.sk-toggleable__label {cursor: pointer;display: block;width: 100%;margin-bottom: 0;padding: 0.3em;box-sizing: border-box;text-align: center;}#sk-container-id-1 label.sk-toggleable__label-arrow:before {content: \"▸\";float: left;margin-right: 0.25em;color: #696969;}#sk-container-id-1 label.sk-toggleable__label-arrow:hover:before {color: black;}#sk-container-id-1 div.sk-estimator:hover label.sk-toggleable__label-arrow:before {color: black;}#sk-container-id-1 div.sk-toggleable__content {max-height: 0;max-width: 0;overflow: hidden;text-align: left;background-color: #f0f8ff;}#sk-container-id-1 div.sk-toggleable__content pre {margin: 0.2em;color: black;border-radius: 0.25em;background-color: #f0f8ff;}#sk-container-id-1 input.sk-toggleable__control:checked~div.sk-toggleable__content {max-height: 200px;max-width: 100%;overflow: auto;}#sk-container-id-1 input.sk-toggleable__control:checked~label.sk-toggleable__label-arrow:before {content: \"▾\";}#sk-container-id-1 div.sk-estimator input.sk-toggleable__control:checked~label.sk-toggleable__label {background-color: #d4ebff;}#sk-container-id-1 div.sk-label input.sk-toggleable__control:checked~label.sk-toggleable__label {background-color: #d4ebff;}#sk-container-id-1 input.sk-hidden--visually {border: 0;clip: rect(1px 1px 1px 1px);clip: rect(1px, 1px, 1px, 1px);height: 1px;margin: -1px;overflow: hidden;padding: 0;position: absolute;width: 1px;}#sk-container-id-1 div.sk-estimator {font-family: monospace;background-color: #f0f8ff;border: 1px dotted black;border-radius: 0.25em;box-sizing: border-box;margin-bottom: 0.5em;}#sk-container-id-1 div.sk-estimator:hover {background-color: #d4ebff;}#sk-container-id-1 div.sk-parallel-item::after {content: \"\";width: 100%;border-bottom: 1px solid gray;flex-grow: 1;}#sk-container-id-1 div.sk-label:hover label.sk-toggleable__label {background-color: #d4ebff;}#sk-container-id-1 div.sk-serial::before {content: \"\";position: absolute;border-left: 1px solid gray;box-sizing: border-box;top: 0;bottom: 0;left: 50%;z-index: 0;}#sk-container-id-1 div.sk-serial {display: flex;flex-direction: column;align-items: center;background-color: white;padding-right: 0.2em;padding-left: 0.2em;position: relative;}#sk-container-id-1 div.sk-item {position: relative;z-index: 1;}#sk-container-id-1 div.sk-parallel {display: flex;align-items: stretch;justify-content: center;background-color: white;position: relative;}#sk-container-id-1 div.sk-item::before, #sk-container-id-1 div.sk-parallel-item::before {content: \"\";position: absolute;border-left: 1px solid gray;box-sizing: border-box;top: 0;bottom: 0;left: 50%;z-index: -1;}#sk-container-id-1 div.sk-parallel-item {display: flex;flex-direction: column;z-index: 1;position: relative;background-color: white;}#sk-container-id-1 div.sk-parallel-item:first-child::after {align-self: flex-end;width: 50%;}#sk-container-id-1 div.sk-parallel-item:last-child::after {align-self: flex-start;width: 50%;}#sk-container-id-1 div.sk-parallel-item:only-child::after {width: 0;}#sk-container-id-1 div.sk-dashed-wrapped {border: 1px dashed gray;margin: 0 0.4em 0.5em 0.4em;box-sizing: border-box;padding-bottom: 0.4em;background-color: white;}#sk-container-id-1 div.sk-label label {font-family: monospace;font-weight: bold;display: inline-block;line-height: 1.2em;}#sk-container-id-1 div.sk-label-container {text-align: center;}#sk-container-id-1 div.sk-container {/* jupyter's `normalize.less` sets `[hidden] { display: none; }` but bootstrap.min.css set `[hidden] { display: none !important; }` so we also need the `!important` here to be able to override the default hidden behavior on the sphinx rendered scikit-learn.org. See: https://github.com/scikit-learn/scikit-learn/issues/21755 */display: inline-block !important;position: relative;}#sk-container-id-1 div.sk-text-repr-fallback {display: none;}</style><div id=\"sk-container-id-1\" class=\"sk-top-container\"><div class=\"sk-text-repr-fallback\"><pre>DecisionTreeClassifier(criterion=&#x27;entropy&#x27;, random_state=9)</pre><b>In a Jupyter environment, please rerun this cell to show the HTML representation or trust the notebook. <br />On GitHub, the HTML representation is unable to render, please try loading this page with nbviewer.org.</b></div><div class=\"sk-container\" hidden><div class=\"sk-item\"><div class=\"sk-estimator sk-toggleable\"><input class=\"sk-toggleable__control sk-hidden--visually\" id=\"sk-estimator-id-1\" type=\"checkbox\" checked><label for=\"sk-estimator-id-1\" class=\"sk-toggleable__label sk-toggleable__label-arrow\">DecisionTreeClassifier</label><div class=\"sk-toggleable__content\"><pre>DecisionTreeClassifier(criterion=&#x27;entropy&#x27;, random_state=9)</pre></div></div></div></div></div>"
      ],
      "text/plain": [
       "DecisionTreeClassifier(criterion='entropy', random_state=9)"
      ]
     },
     "execution_count": 8,
     "metadata": {},
     "output_type": "execute_result"
    }
   ],
   "source": [
    "# creating the tree\n",
    "from sklearn.tree import DecisionTreeClassifier\n",
    "\n",
    "tree_classifier = DecisionTreeClassifier(criterion='entropy', random_state=9)\n",
    "tree_classifier.fit(X_train, y_train)"
   ]
  },
  {
   "cell_type": "code",
   "execution_count": 10,
   "metadata": {},
   "outputs": [
    {
     "name": "stdout",
     "output_type": "stream",
     "text": [
      "Accuracy: 1.00\n"
     ]
    }
   ],
   "source": [
    "# checking the accuracy\n",
    "from sklearn.metrics import accuracy_score\n",
    "from sklearn.tree import plot_tree \n",
    "\n",
    "y_predictions = tree_classifier.predict(X_test)\n",
    "accuracy = accuracy_score(y_test, y_predictions)\n",
    "print('Accuracy: {:.2f}'.format(accuracy)) "
   ]
  },
  {
   "cell_type": "code",
   "execution_count": 11,
   "metadata": {},
   "outputs": [
    {
     "data": {
      "text/plain": [
       "[Text(0.5, 0.9166666666666666, 'X[1] <= 0.75\\nentropy = 1.583\\nsamples = 120\\nvalue = [37, 41, 42]'),\n",
       " Text(0.4230769230769231, 0.75, 'entropy = 0.0\\nsamples = 37\\nvalue = [37, 0, 0]'),\n",
       " Text(0.5769230769230769, 0.75, 'X[1] <= 1.75\\nentropy = 1.0\\nsamples = 83\\nvalue = [0, 41, 42]'),\n",
       " Text(0.3076923076923077, 0.5833333333333334, 'X[0] <= 4.95\\nentropy = 0.503\\nsamples = 45\\nvalue = [0, 40, 5]'),\n",
       " Text(0.15384615384615385, 0.4166666666666667, 'X[1] <= 1.65\\nentropy = 0.172\\nsamples = 39\\nvalue = [0, 38, 1]'),\n",
       " Text(0.07692307692307693, 0.25, 'entropy = 0.0\\nsamples = 38\\nvalue = [0, 38, 0]'),\n",
       " Text(0.23076923076923078, 0.25, 'entropy = 0.0\\nsamples = 1\\nvalue = [0, 0, 1]'),\n",
       " Text(0.46153846153846156, 0.4166666666666667, 'X[1] <= 1.55\\nentropy = 0.918\\nsamples = 6\\nvalue = [0, 2, 4]'),\n",
       " Text(0.38461538461538464, 0.25, 'entropy = 0.0\\nsamples = 3\\nvalue = [0, 0, 3]'),\n",
       " Text(0.5384615384615384, 0.25, 'X[2] <= 6.95\\nentropy = 0.918\\nsamples = 3\\nvalue = [0, 2, 1]'),\n",
       " Text(0.46153846153846156, 0.08333333333333333, 'entropy = 0.0\\nsamples = 2\\nvalue = [0, 2, 0]'),\n",
       " Text(0.6153846153846154, 0.08333333333333333, 'entropy = 0.0\\nsamples = 1\\nvalue = [0, 0, 1]'),\n",
       " Text(0.8461538461538461, 0.5833333333333334, 'X[0] <= 4.85\\nentropy = 0.176\\nsamples = 38\\nvalue = [0, 1, 37]'),\n",
       " Text(0.7692307692307693, 0.4166666666666667, 'X[2] <= 5.95\\nentropy = 0.918\\nsamples = 3\\nvalue = [0, 1, 2]'),\n",
       " Text(0.6923076923076923, 0.25, 'entropy = 0.0\\nsamples = 1\\nvalue = [0, 1, 0]'),\n",
       " Text(0.8461538461538461, 0.25, 'entropy = 0.0\\nsamples = 2\\nvalue = [0, 0, 2]'),\n",
       " Text(0.9230769230769231, 0.4166666666666667, 'entropy = 0.0\\nsamples = 35\\nvalue = [0, 0, 35]')]"
      ]
     },
     "execution_count": 11,
     "metadata": {},
     "output_type": "execute_result"
    },
    {
     "data": {
      "image/png": "[encoded data removed]",
      "text/plain": [
       "<Figure size 640x480 with 1 Axes>"
      ]
     },
     "metadata": {},
     "output_type": "display_data"
    }
   ],
   "source": [
    "plot_tree(tree_classifier)"
   ]
  },
  {
   "cell_type": "code",
   "execution_count": 12,
   "metadata": {},
   "outputs": [
    {
     "name": "stdout",
     "output_type": "stream",
     "text": [
      "Best value for max depth is:  {'max_depth': 3}\n"
     ]
    }
   ],
   "source": [
    "from sklearn.model_selection import GridSearchCV \n",
    "\n",
    "# finding best value for depth\n",
    "param_grid = { 'max_depth': [1, 2, 3, 4, 5, 6, 7]}\n",
    "grid_search = GridSearchCV(tree_classifier, param_grid, cv=5)\n",
    "\n",
    "grid_search.fit(X_train, y_train)\n",
    "print(\"Best value for max depth is: \", grid_search.best_params_)"
   ]
  },
  {
   "cell_type": "code",
   "execution_count": 13,
   "metadata": {},
   "outputs": [
    {
     "data": {
      "text/html": [
       "<style>#sk-container-id-2 {color: black;background-color: white;}#sk-container-id-2 pre{padding: 0;}#sk-container-id-2 div.sk-toggleable {background-color: white;}#sk-container-id-2 label.sk-toggleable__label {cursor: pointer;display: block;width: 100%;margin-bottom: 0;padding: 0.3em;box-sizing: border-box;text-align: center;}#sk-container-id-2 label.sk-toggleable__label-arrow:before {content: \"▸\";float: left;margin-right: 0.25em;color: #696969;}#sk-container-id-2 label.sk-toggleable__label-arrow:hover:before {color: black;}#sk-container-id-2 div.sk-estimator:hover label.sk-toggleable__label-arrow:before {color: black;}#sk-container-id-2 div.sk-toggleable__content {max-height: 0;max-width: 0;overflow: hidden;text-align: left;background-color: #f0f8ff;}#sk-container-id-2 div.sk-toggleable__content pre {margin: 0.2em;color: black;border-radius: 0.25em;background-color: #f0f8ff;}#sk-container-id-2 input.sk-toggleable__control:checked~div.sk-toggleable__content {max-height: 200px;max-width: 100%;overflow: auto;}#sk-container-id-2 input.sk-toggleable__control:checked~label.sk-toggleable__label-arrow:before {content: \"▾\";}#sk-container-id-2 div.sk-estimator input.sk-toggleable__control:checked~label.sk-toggleable__label {background-color: #d4ebff;}#sk-container-id-2 div.sk-label input.sk-toggleable__control:checked~label.sk-toggleable__label {background-color: #d4ebff;}#sk-container-id-2 input.sk-hidden--visually {border: 0;clip: rect(1px 1px 1px 1px);clip: rect(1px, 1px, 1px, 1px);height: 1px;margin: -1px;overflow: hidden;padding: 0;position: absolute;width: 1px;}#sk-container-id-2 div.sk-estimator {font-family: monospace;background-color: #f0f8ff;border: 1px dotted black;border-radius: 0.25em;box-sizing: border-box;margin-bottom: 0.5em;}#sk-container-id-2 div.sk-estimator:hover {background-color: #d4ebff;}#sk-container-id-2 div.sk-parallel-item::after {content: \"\";width: 100%;border-bottom: 1px solid gray;flex-grow: 1;}#sk-container-id-2 div.sk-label:hover label.sk-toggleable__label {background-color: #d4ebff;}#sk-container-id-2 div.sk-serial::before {content: \"\";position: absolute;border-left: 1px solid gray;box-sizing: border-box;top: 0;bottom: 0;left: 50%;z-index: 0;}#sk-container-id-2 div.sk-serial {display: flex;flex-direction: column;align-items: center;background-color: white;padding-right: 0.2em;padding-left: 0.2em;position: relative;}#sk-container-id-2 div.sk-item {position: relative;z-index: 1;}#sk-container-id-2 div.sk-parallel {display: flex;align-items: stretch;justify-content: center;background-color: white;position: relative;}#sk-container-id-2 div.sk-item::before, #sk-container-id-2 div.sk-parallel-item::before {content: \"\";position: absolute;border-left: 1px solid gray;box-sizing: border-box;top: 0;bottom: 0;left: 50%;z-index: -1;}#sk-container-id-2 div.sk-parallel-item {display: flex;flex-direction: column;z-index: 1;position: relative;background-color: white;}#sk-container-id-2 div.sk-parallel-item:first-child::after {align-self: flex-end;width: 50%;}#sk-container-id-2 div.sk-parallel-item:last-child::after {align-self: flex-start;width: 50%;}#sk-container-id-2 div.sk-parallel-item:only-child::after {width: 0;}#sk-container-id-2 div.sk-dashed-wrapped {border: 1px dashed gray;margin: 0 0.4em 0.5em 0.4em;box-sizing: border-box;padding-bottom: 0.4em;background-color: white;}#sk-container-id-2 div.sk-label label {font-family: monospace;font-weight: bold;display: inline-block;line-height: 1.2em;}#sk-container-id-2 div.sk-label-container {text-align: center;}#sk-container-id-2 div.sk-container {/* jupyter's `normalize.less` sets `[hidden] { display: none; }` but bootstrap.min.css set `[hidden] { display: none !important; }` so we also need the `!important` here to be able to override the default hidden behavior on the sphinx rendered scikit-learn.org. See: https://github.com/scikit-learn/scikit-learn/issues/21755 */display: inline-block !important;position: relative;}#sk-container-id-2 div.sk-text-repr-fallback {display: none;}</style><div id=\"sk-container-id-2\" class=\"sk-top-container\"><div class=\"sk-text-repr-fallback\"><pre>DecisionTreeClassifier(criterion=&#x27;entropy&#x27;, max_depth=3, random_state=9)</pre><b>In a Jupyter environment, please rerun this cell to show the HTML representation or trust the notebook. <br />On GitHub, the HTML representation is unable to render, please try loading this page with nbviewer.org.</b></div><div class=\"sk-container\" hidden><div class=\"sk-item\"><div class=\"sk-estimator sk-toggleable\"><input class=\"sk-toggleable__control sk-hidden--visually\" id=\"sk-estimator-id-2\" type=\"checkbox\" checked><label for=\"sk-estimator-id-2\" class=\"sk-toggleable__label sk-toggleable__label-arrow\">DecisionTreeClassifier</label><div class=\"sk-toggleable__content\"><pre>DecisionTreeClassifier(criterion=&#x27;entropy&#x27;, max_depth=3, random_state=9)</pre></div></div></div></div></div>"
      ],
      "text/plain": [
       "DecisionTreeClassifier(criterion='entropy', max_depth=3, random_state=9)"
      ]
     },
     "execution_count": 13,
     "metadata": {},
     "output_type": "execute_result"
    }
   ],
   "source": [
    "# creating tree classifier with depth = 3\n",
    "tuned_tree = DecisionTreeClassifier(criterion='entropy', max_depth=3, random_state=9)\n",
    "tuned_tree.fit(X_train, y_train)"
   ]
  },
  {
   "cell_type": "code",
   "execution_count": 14,
   "metadata": {},
   "outputs": [
    {
     "name": "stdout",
     "output_type": "stream",
     "text": [
      "Accuracy: 1.00\n"
     ]
    }
   ],
   "source": [
    "# testing the accuracy of tuned tree\n",
    "y_predictions = tuned_tree.predict(X_test)\n",
    "accuracy = accuracy_score(y_test, y_predictions)\n",
    "\n",
    "print(\"Accuracy: {:.2f}\".format(accuracy))"
   ]
  },
  {
   "cell_type": "code",
   "execution_count": 15,
   "metadata": {},
   "outputs": [
    {
     "data": {
      "text/plain": [
       "[Text(0.375, 0.875, 'X[1] <= 0.75\\nentropy = 1.583\\nsamples = 120\\nvalue = [37, 41, 42]'),\n",
       " Text(0.25, 0.625, 'entropy = 0.0\\nsamples = 37\\nvalue = [37, 0, 0]'),\n",
       " Text(0.5, 0.625, 'X[1] <= 1.75\\nentropy = 1.0\\nsamples = 83\\nvalue = [0, 41, 42]'),\n",
       " Text(0.25, 0.375, 'X[0] <= 4.95\\nentropy = 0.503\\nsamples = 45\\nvalue = [0, 40, 5]'),\n",
       " Text(0.125, 0.125, 'entropy = 0.172\\nsamples = 39\\nvalue = [0, 38, 1]'),\n",
       " Text(0.375, 0.125, 'entropy = 0.918\\nsamples = 6\\nvalue = [0, 2, 4]'),\n",
       " Text(0.75, 0.375, 'X[0] <= 4.85\\nentropy = 0.176\\nsamples = 38\\nvalue = [0, 1, 37]'),\n",
       " Text(0.625, 0.125, 'entropy = 0.918\\nsamples = 3\\nvalue = [0, 1, 2]'),\n",
       " Text(0.875, 0.125, 'entropy = 0.0\\nsamples = 35\\nvalue = [0, 0, 35]')]"
      ]
     },
     "execution_count": 15,
     "metadata": {},
     "output_type": "execute_result"
    },
    {
     "data": {
      "image/png": "[encoded data removed]",
      "text/plain": [
       "<Figure size 640x480 with 1 Axes>"
      ]
     },
     "metadata": {},
     "output_type": "display_data"
    }
   ],
   "source": [
    "plot_tree(tuned_tree)"
   ]
  }
 ],
 "metadata": {
  "kernelspec": {
   "display_name": "Python 3 (ipykernel)",
   "language": "python",
   "name": "python3"
  },
  "language_info": {
   "codemirror_mode": {
    "name": "ipython",
    "version": 3
   },
   "file_extension": ".py",
   "mimetype": "text/x-python",
   "name": "python",
   "nbconvert_exporter": "python",
   "pygments_lexer": "ipython3",
   "version": "3.11.8"
  }
 },
 "nbformat": 4,
 "nbformat_minor": 4
}
