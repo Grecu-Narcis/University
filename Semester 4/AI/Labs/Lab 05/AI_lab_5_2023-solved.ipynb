{
 "cells": [
  {
   "cell_type": "markdown",
   "id": "b8210b19",
   "metadata": {},
   "source": [
    "## A.I. Assignment 5\n",
    "\n",
    "## Learning Goals\n",
    "\n",
    "By the end of this lab, you should be able to:\n",
    "* Get more familiar with tensors in pytorch \n",
    "* Create a simple multilayer perceptron model with pytorch\n",
    "* Visualise the parameters\n",
    "\n",
    "\n",
    "### Task\n",
    "\n",
    "Build a fully connected feed forward network that adds two bits. Determine the a propper achitecture for this network (what database you use for this problem? how many layers? how many neurons on each layer? what is the activation function? what is the loss function? etc)\n",
    "\n",
    "Create at least 3 such networks and compare their performance (how accurate they are?, how farst they are trained to get at 1 accuracy?)\n",
    "\n",
    "Display for the best one the weights for each layer.\n"
   ]
  },
  {
   "cell_type": "code",
   "execution_count": 48,
   "id": "e3614e5f",
   "metadata": {},
   "outputs": [
    {
     "name": "stdout",
     "output_type": "stream",
     "text": [
      "tensor([[0., 0.],\n",
      "        [0., 1.],\n",
      "        [1., 0.],\n",
      "        [1., 1.]])\n",
      "tensor([[0., 0.],\n",
      "        [0., 1.],\n",
      "        [0., 1.],\n",
      "        [1., 0.]])\n"
     ]
    }
   ],
   "source": [
    "import torch\n",
    "import torch.nn as nn\n",
    "from collections import OrderedDict\n",
    "\n",
    "data_in = torch.tensor([[0, 0], [0, 1], [1, 0], [1, 1]], dtype=torch.float)\n",
    "print(data_in)\n",
    "\n",
    "data_target = torch.tensor([[0, 0], [0, 1], [0, 1], [1, 0]], dtype=torch.float)\n",
    "print(data_target)"
   ]
  },
  {
   "cell_type": "code",
   "execution_count": 113,
   "id": "e2a23f8b-453d-49f3-8c13-752addde51d2",
   "metadata": {},
   "outputs": [],
   "source": [
    "import matplotlib.pyplot as plt\n",
    "\n",
    "def plot_loss(loss_values):\n",
    "    plt.plot(loss_values)\n",
    "    plt.xlabel('Epoch')\n",
    "    plt.ylabel('Loss')\n",
    "    plt.title('Training Loss Curve')\n",
    "    plt.show()"
   ]
  },
  {
   "cell_type": "code",
   "execution_count": 93,
   "id": "5ee7e7d7",
   "metadata": {},
   "outputs": [],
   "source": [
    "# your code here\n",
    "model1 = nn.Sequential(OrderedDict([\n",
    "    ('hidden', nn.Linear(2, 3)),\n",
    "    ('ReLU', nn.ReLU()),\n",
    "    ('output', nn.Linear(3, 2)),\n",
    "    ('sigmoid', nn.Sigmoid())\n",
    "]))"
   ]
  },
  {
   "cell_type": "code",
   "execution_count": 94,
   "id": "665ae958",
   "metadata": {},
   "outputs": [
    {
     "name": "stdout",
     "output_type": "stream",
     "text": [
      "Sequential(\n",
      "  (hidden): Linear(in_features=2, out_features=3, bias=True)\n",
      "  (ReLU): ReLU()\n",
      "  (output): Linear(in_features=3, out_features=2, bias=True)\n",
      "  (sigmoid): Sigmoid()\n",
      ")\n"
     ]
    }
   ],
   "source": [
    "print(model1)"
   ]
  },
  {
   "cell_type": "code",
   "execution_count": 109,
   "id": "e26f0d3e",
   "metadata": {},
   "outputs": [],
   "source": [
    "criterion1 = nn.MSELoss() # 1/n * sum of squares of differences (target, result)\n",
    "optimizer1 = torch.optim.SGD(model1.parameters(), lr=0.1)"
   ]
  },
  {
   "cell_type": "code",
   "execution_count": 96,
   "id": "4fb16bbc",
   "metadata": {},
   "outputs": [
    {
     "name": "stdout",
     "output_type": "stream",
     "text": [
      "Model 1 reached 100% accuracy at epoch 29\n",
      "done\n"
     ]
    }
   ],
   "source": [
    "losses1 = []\n",
    "\n",
    "for epoch in range(10000):\n",
    "    # reset gradient to avoid accumulating from previous computations\n",
    "    optimizer1.zero_grad()\n",
    "    # go forward\n",
    "    outputs1 = model1(data_in)\n",
    "    # compute loss\n",
    "    loss1 = criterion1(outputs1, data_target)\n",
    "    #backward\n",
    "    loss1.backward()\n",
    "    # update weights\n",
    "    optimizer1.step()\n",
    "    losses1.append(loss1.item())\n",
    "\n",
    "    predicted_classes1 = (outputs1.round() == data_target)\n",
    "    accuracy1 = predicted_classes1.sum().item() / len(data_target)\n",
    "\n",
    "    if (epoch + 1) % 100 == 0:\n",
    "        print(f\"Epoch: {epoch + 1}, loss: {loss1.item()}\")\n",
    "    \n",
    "    if accuracy1 == 1:\n",
    "        print(f\"Model 1 reached 100% accuracy at epoch {epoch+1}\")\n",
    "        break\n",
    "\n",
    "print(\"done\")"
   ]
  },
  {
   "cell_type": "code",
   "execution_count": 116,
   "id": "b349841b-0a13-4243-ad5d-35947e2bc001",
   "metadata": {},
   "outputs": [
    {
     "data": {
      "image/png": "[encoded data removed]",
      "text/plain": [
       "<Figure size 640x480 with 1 Axes>"
      ]
     },
     "metadata": {},
     "output_type": "display_data"
    }
   ],
   "source": [
    "plot_loss(losses1)"
   ]
  },
  {
   "cell_type": "code",
   "execution_count": 61,
   "id": "dff3ec1a",
   "metadata": {},
   "outputs": [
    {
     "name": "stdout",
     "output_type": "stream",
     "text": [
      "Model Accuracy: 1.0%\n"
     ]
    }
   ],
   "source": [
    "# your code here\n",
    "# visualize the resuts\n",
    "predicted = torch.round(outputs1)\n",
    "correct = (predicted == data_target).sum()\n",
    "total = data_target.size(0)\n",
    "accuracy = correct / total\n",
    "print(f'Model Accuracy: {accuracy}%') "
   ]
  },
  {
   "cell_type": "code",
   "execution_count": 62,
   "id": "c1a7518b",
   "metadata": {},
   "outputs": [
    {
     "name": "stdout",
     "output_type": "stream",
     "text": [
      "Model weights:\n",
      "hidden.weight tensor([[-0.1583,  0.0103],\n",
      "        [-0.0419,  0.1704],\n",
      "        [ 0.2014, -0.6422]])\n",
      "hidden.bias tensor([-0.2609,  0.6006,  0.2797])\n",
      "output.weight tensor([[-0.0287, -0.3561, -0.3580],\n",
      "        [-0.5172, -0.1896,  0.1956]])\n",
      "output.bias tensor([0.3548, 0.2643])\n"
     ]
    }
   ],
   "source": [
    "# your code here\n",
    "# print model wights\n",
    "print(f\"Model weights:\")\n",
    "for name, param in model1.named_parameters():\n",
    "    if param.requires_grad:\n",
    "        print(name, param.data)"
   ]
  },
  {
   "cell_type": "code",
   "execution_count": null,
   "id": "4cdf09ba",
   "metadata": {},
   "outputs": [],
   "source": []
  },
  {
   "cell_type": "code",
   "execution_count": 105,
   "id": "d0bea66c",
   "metadata": {},
   "outputs": [],
   "source": [
    "model2 = nn.Sequential(OrderedDict([\n",
    "    ('hidden', nn.Linear(2, 4)),\n",
    "    ('ReLU', nn.ReLU()),\n",
    "    ('output', nn.Linear(4, 2)),\n",
    "    ('sigmoid', nn.Sigmoid())\n",
    "]))"
   ]
  },
  {
   "cell_type": "code",
   "execution_count": 106,
   "id": "e29c65a2",
   "metadata": {},
   "outputs": [
    {
     "name": "stdout",
     "output_type": "stream",
     "text": [
      "Sequential(\n",
      "  (hidden): Linear(in_features=2, out_features=4, bias=True)\n",
      "  (ReLU): ReLU()\n",
      "  (output): Linear(in_features=4, out_features=2, bias=True)\n",
      "  (sigmoid): Sigmoid()\n",
      ")\n"
     ]
    }
   ],
   "source": [
    "print(model2)"
   ]
  },
  {
   "cell_type": "code",
   "execution_count": 107,
   "id": "776f6fd4-9870-49b9-91af-0f77735f41ee",
   "metadata": {},
   "outputs": [],
   "source": [
    "criterion2 = nn.MSELoss()\n",
    "optimizer2 = torch.optim.SGD(model2.parameters(), lr=0.1)"
   ]
  },
  {
   "cell_type": "code",
   "execution_count": 108,
   "id": "75baaf93-b87c-4446-a3d5-c3a42733e7f0",
   "metadata": {},
   "outputs": [
    {
     "name": "stdout",
     "output_type": "stream",
     "text": [
      "Model 2 reached 100% accuracy at epoch 37\n",
      "done\n"
     ]
    }
   ],
   "source": [
    "losses2 = []\n",
    "\n",
    "for epoch in range(10000):\n",
    "    optimizer2.zero_grad()\n",
    "    outputs2 = model2(data_in)\n",
    "    loss2 = criterion2(outputs2, data_target)\n",
    "    loss2.backward()\n",
    "    optimizer2.step()\n",
    "    losses2.append(loss2.item())\n",
    "\n",
    "    predicted_classes2 = (outputs2.round() == data_target)\n",
    "    accuracy2 = predicted_classes2.sum().item() / len(data_target)\n",
    "\n",
    "    if (epoch + 1) % 100 == 0:\n",
    "        print(f\"Epoch: {epoch + 1}, loss: {loss2.item()}\")\n",
    "    \n",
    "    if accuracy2 == 1:\n",
    "        print(f\"Model 2 reached 100% accuracy at epoch {epoch+1}\")\n",
    "        break\n",
    "\n",
    "print(\"done\")"
   ]
  },
  {
   "cell_type": "code",
   "execution_count": 118,
   "id": "aaad1f65-43cb-47f1-b0a5-847d58384e17",
   "metadata": {},
   "outputs": [
    {
     "data": {
      "image/png": "[encoded data removed]",
      "text/plain": [
       "<Figure size 640x480 with 1 Axes>"
      ]
     },
     "metadata": {},
     "output_type": "display_data"
    }
   ],
   "source": [
    "plot_loss(losses2)"
   ]
  },
  {
   "cell_type": "code",
   "execution_count": 67,
   "id": "9d0dccc9-1fa4-4ba7-b786-0b4a04ef8acc",
   "metadata": {},
   "outputs": [
    {
     "name": "stdout",
     "output_type": "stream",
     "text": [
      "Model Accuracy: 1.0%\n"
     ]
    }
   ],
   "source": [
    "# visualize the resuts\n",
    "predicted = torch.round(outputs2)\n",
    "correct = (predicted == data_target).sum()\n",
    "total = data_target.size(0)\n",
    "accuracy = correct / total\n",
    "print(f'Model Accuracy: {accuracy}%') "
   ]
  },
  {
   "cell_type": "code",
   "execution_count": 68,
   "id": "8ba103b6-aea2-4d7b-9aa0-b28e3bb596cc",
   "metadata": {},
   "outputs": [
    {
     "name": "stdout",
     "output_type": "stream",
     "text": [
      "Model weights:\n",
      "hidden.weight tensor([[-0.6250, -0.4252],\n",
      "        [-0.1131,  0.6658],\n",
      "        [ 0.1023, -0.1831],\n",
      "        [ 0.3100, -0.2693]])\n",
      "hidden.bias tensor([-0.4577,  0.4456, -0.3215, -0.1243])\n",
      "output.weight tensor([[-0.4974,  0.1567,  0.3788,  0.1587],\n",
      "        [-0.3486, -0.4893, -0.4061,  0.3910]])\n",
      "output.bias tensor([-0.0840,  0.4037])\n"
     ]
    }
   ],
   "source": [
    "# print model wights\n",
    "print(f\"Model weights:\")\n",
    "for name, param in model2.named_parameters():\n",
    "    if param.requires_grad:\n",
    "        print(name, param.data)"
   ]
  },
  {
   "cell_type": "code",
   "execution_count": null,
   "id": "828c7c8c-a86b-4fa8-9320-3c8b3a7a4249",
   "metadata": {},
   "outputs": [],
   "source": []
  },
  {
   "cell_type": "code",
   "execution_count": 149,
   "id": "b087eb29-5084-4af7-b9f0-ffe2f9eafca2",
   "metadata": {},
   "outputs": [],
   "source": [
    "model3 = nn.Sequential(OrderedDict([\n",
    "    ('hidden', nn.Linear(2, 3)),\n",
    "    ('tanh_hidden', nn.Tanh()),\n",
    "    ('output', nn.Linear(3, 2)),\n",
    "    ('tanh_output', nn.Tanh())\n",
    "]))"
   ]
  },
  {
   "cell_type": "code",
   "execution_count": 150,
   "id": "0ad9c1e7-13ac-4b5a-ba86-bec0f09ed06e",
   "metadata": {},
   "outputs": [
    {
     "name": "stdout",
     "output_type": "stream",
     "text": [
      "Sequential(\n",
      "  (hidden): Linear(in_features=2, out_features=3, bias=True)\n",
      "  (tanh_hidden): Tanh()\n",
      "  (output): Linear(in_features=3, out_features=2, bias=True)\n",
      "  (tanh_output): Tanh()\n",
      ")\n"
     ]
    }
   ],
   "source": [
    "print(model3)"
   ]
  },
  {
   "cell_type": "code",
   "execution_count": 151,
   "id": "7e020871-143e-417d-90d9-a47acd1b6123",
   "metadata": {},
   "outputs": [],
   "source": [
    "criterion3 = nn.MSELoss() # 1/n * sum of squares of differences (target, result)\n",
    "optimizer3 = torch.optim.SGD(model3.parameters(), lr=0.1)"
   ]
  },
  {
   "cell_type": "code",
   "execution_count": 152,
   "id": "9503c5be-cc5b-41a1-9ff3-34a32b2d25f3",
   "metadata": {},
   "outputs": [
    {
     "name": "stdout",
     "output_type": "stream",
     "text": [
      "Model 3 reached 100% accuracy at epoch 8\n",
      "done\n"
     ]
    }
   ],
   "source": [
    "losses3 = []\n",
    "\n",
    "for epoch in range(10000):\n",
    "    # reset gradient to avoid accumulating from previous computations\n",
    "    optimizer3.zero_grad()\n",
    "    # go forward\n",
    "    outputs3 = model3(data_in)\n",
    "    # compute loss\n",
    "    loss3 = criterion3(outputs3, data_target)\n",
    "    #backward\n",
    "    loss3.backward()\n",
    "    # update weights\n",
    "    optimizer3.step()\n",
    "\n",
    "    losses3.append(loss3.item())\n",
    "    predicted_classes3 = (outputs3.round() == data_target)\n",
    "    accuracy3 = predicted_classes3.sum().item() / len(data_target)\n",
    "    if accuracy3 == 1:\n",
    "        print(f\"Model 3 reached 100% accuracy at epoch {epoch+1}\")\n",
    "        break\n",
    "\n",
    "print(\"done\")"
   ]
  },
  {
   "cell_type": "code",
   "execution_count": 153,
   "id": "d5822ce3-0766-4067-adcb-495d21611968",
   "metadata": {},
   "outputs": [
    {
     "data": {
      "image/png": "[encoded data removed]",
      "text/plain": [
       "<Figure size 640x480 with 1 Axes>"
      ]
     },
     "metadata": {},
     "output_type": "display_data"
    }
   ],
   "source": [
    "plot_loss(losses3)"
   ]
  },
  {
   "cell_type": "code",
   "execution_count": 154,
   "id": "bd45948f-4f61-4ae2-a4a6-219209459cd4",
   "metadata": {},
   "outputs": [
    {
     "name": "stdout",
     "output_type": "stream",
     "text": [
      "Model Accuracy: 1.0%\n"
     ]
    }
   ],
   "source": [
    "# visualize the resuts\n",
    "predicted = torch.round(outputs3)\n",
    "correct = (predicted == data_target).sum()\n",
    "total = data_target.size(0)\n",
    "accuracy = correct / total\n",
    "print(f'Model Accuracy: {accuracy}%') "
   ]
  },
  {
   "cell_type": "code",
   "execution_count": 155,
   "id": "b05ccd09-6d72-43a6-bbe7-34d9625ff842",
   "metadata": {},
   "outputs": [
    {
     "name": "stdout",
     "output_type": "stream",
     "text": [
      "Model weights:\n",
      "hidden.weight tensor([[-0.1330,  0.6411],\n",
      "        [ 0.6854,  0.1992],\n",
      "        [ 0.2231,  0.1355]])\n",
      "hidden.bias tensor([-0.0155, -0.0903, -0.0160])\n",
      "output.weight tensor([[ 0.2354,  0.5569, -0.1389],\n",
      "        [-0.2048, -0.0866, -0.2506]])\n",
      "output.bias tensor([0.0693, 0.5504])\n"
     ]
    }
   ],
   "source": [
    "# print model wights\n",
    "print(f\"Model weights:\")\n",
    "for name, param in model3.named_parameters():\n",
    "    if param.requires_grad:\n",
    "        print(name, param.data)"
   ]
  },
  {
   "cell_type": "code",
   "execution_count": null,
   "id": "130f6e78-6069-4292-890b-38e376bd7eb1",
   "metadata": {},
   "outputs": [],
   "source": []
  },
  {
   "cell_type": "code",
   "execution_count": null,
   "id": "e1ff15dd-028a-4682-ae27-c2147e6bbeef",
   "metadata": {},
   "outputs": [],
   "source": [
    "# model 4"
   ]
  },
  {
   "cell_type": "code",
   "execution_count": 164,
   "id": "bef50202-a3a9-40a7-bf03-6e770a631ba8",
   "metadata": {},
   "outputs": [],
   "source": [
    "model4 = nn.Sequential(OrderedDict([\n",
    "    ('hidden', nn.Linear(2, 3)),\n",
    "    ('sigmoid_hidden', nn.Sigmoid()),\n",
    "    ('output', nn.Linear(3, 2)),\n",
    "    ('sigmoid_out', nn.Sigmoid())\n",
    "]))"
   ]
  },
  {
   "cell_type": "code",
   "execution_count": 165,
   "id": "4d619289-cca1-48f5-b3e5-542f345806f8",
   "metadata": {},
   "outputs": [
    {
     "name": "stdout",
     "output_type": "stream",
     "text": [
      "Sequential(\n",
      "  (hidden): Linear(in_features=2, out_features=3, bias=True)\n",
      "  (sigmoid_hidden): Sigmoid()\n",
      "  (output): Linear(in_features=3, out_features=2, bias=True)\n",
      "  (sigmoid_out): Sigmoid()\n",
      ")\n"
     ]
    }
   ],
   "source": [
    "print(model4)"
   ]
  },
  {
   "cell_type": "code",
   "execution_count": 166,
   "id": "62cfeacf-b088-4e5d-a93f-2e7455c37aca",
   "metadata": {},
   "outputs": [],
   "source": [
    "criterion4 = nn.MSELoss()\n",
    "optimizer4 = torch.optim.SGD(model4.parameters(), lr=0.1)"
   ]
  },
  {
   "cell_type": "code",
   "execution_count": 167,
   "id": "2ddde578-0446-4043-bbd7-1555f889fe83",
   "metadata": {},
   "outputs": [
    {
     "name": "stdout",
     "output_type": "stream",
     "text": [
      "Model 4 reached 100% accuracy at epoch 40\n",
      "done\n"
     ]
    }
   ],
   "source": [
    "losses4 = []\n",
    "\n",
    "for epoch in range(10000):\n",
    "    # reset gradient to avoid accumulating from previous computations\n",
    "    optimizer4.zero_grad()\n",
    "    # go forward\n",
    "    outputs4 = model4(data_in)\n",
    "    # compute loss\n",
    "    loss4 = criterion4(outputs4, data_target)\n",
    "    #backward\n",
    "    loss4.backward()\n",
    "    # update weights\n",
    "    optimizer4.step()\n",
    "\n",
    "    losses4.append(loss4.item())\n",
    "    \n",
    "    predicted_classes4 = (outputs4.round() == data_target)\n",
    "    accuracy4 = predicted_classes4.sum().item() / len(data_target)\n",
    "    if accuracy4 == 1:\n",
    "        print(f\"Model 4 reached 100% accuracy at epoch {epoch+1}\")\n",
    "        break\n",
    "\n",
    "print(\"done\")"
   ]
  },
  {
   "cell_type": "code",
   "execution_count": 168,
   "id": "80dcb8f1-38c8-43d8-80a2-5ce7b0752240",
   "metadata": {},
   "outputs": [
    {
     "data": {
      "image/png": "[encoded data removed]",
      "text/plain": [
       "<Figure size 640x480 with 1 Axes>"
      ]
     },
     "metadata": {},
     "output_type": "display_data"
    }
   ],
   "source": [
    "plot_loss(losses4)"
   ]
  },
  {
   "cell_type": "code",
   "execution_count": 169,
   "id": "febe36b8-f028-4776-9491-e7739b1c4493",
   "metadata": {},
   "outputs": [
    {
     "name": "stdout",
     "output_type": "stream",
     "text": [
      "Model Accuracy: 1.0%\n"
     ]
    }
   ],
   "source": [
    "# visualize the resuts\n",
    "predicted = torch.round(outputs4)\n",
    "correct = (predicted == data_target).sum()\n",
    "total = data_target.size(0)\n",
    "accuracy = correct / total\n",
    "print(f'Model Accuracy: {accuracy}%') "
   ]
  },
  {
   "cell_type": "code",
   "execution_count": 170,
   "id": "b81183c3-411c-4387-8f9c-d56d516621db",
   "metadata": {},
   "outputs": [
    {
     "name": "stdout",
     "output_type": "stream",
     "text": [
      "Model weights:\n",
      "hidden.weight tensor([[-0.4868,  0.5742],\n",
      "        [-0.4315, -0.0537],\n",
      "        [-0.1552,  0.1274]])\n",
      "hidden.bias tensor([0.6411, 0.0390, 0.4304])\n",
      "output.weight tensor([[ 0.2415,  0.3078, -0.3902],\n",
      "        [-0.1079,  0.2942, -0.1363]])\n",
      "output.bias tensor([-0.0466, -0.0905])\n"
     ]
    }
   ],
   "source": [
    "# print model wights\n",
    "print(f\"Model weights:\")\n",
    "for name, param in model4.named_parameters():\n",
    "    if param.requires_grad:\n",
    "        print(name, param.data)"
   ]
  },
  {
   "cell_type": "code",
   "execution_count": null,
   "id": "2e523485-b065-48d3-9568-24ab9b1f0a36",
   "metadata": {},
   "outputs": [],
   "source": []
  },
  {
   "cell_type": "code",
   "execution_count": 172,
   "id": "83dd3e5f-b592-4f02-9296-7b4f39305edf",
   "metadata": {},
   "outputs": [
    {
     "data": {
      "text/plain": [
       "Sequential(\n",
       "  (hidden): Linear(in_features=2, out_features=3, bias=True)\n",
       "  (tanh_hidden): Tanh()\n",
       "  (output): Linear(in_features=3, out_features=2, bias=True)\n",
       "  (tanh_output): Tanh()\n",
       ")"
      ]
     },
     "execution_count": 172,
     "metadata": {},
     "output_type": "execute_result"
    }
   ],
   "source": [
    "# displaying best model (model 3)\n",
    "best_model = model3\n",
    "best_model.eval()"
   ]
  },
  {
   "cell_type": "code",
   "execution_count": 173,
   "id": "55c2a47e-7701-4b23-af4d-0db07dd907c0",
   "metadata": {},
   "outputs": [
    {
     "name": "stdout",
     "output_type": "stream",
     "text": [
      "Layer: hidden.weight, Size: torch.Size([3, 2])\n",
      "Parameter containing:\n",
      "tensor([[-0.1330,  0.6411],\n",
      "        [ 0.6854,  0.1992],\n",
      "        [ 0.2231,  0.1355]], requires_grad=True)\n",
      "Layer: hidden.bias, Size: torch.Size([3])\n",
      "Parameter containing:\n",
      "tensor([-0.0155, -0.0903, -0.0160], requires_grad=True)\n",
      "Layer: output.weight, Size: torch.Size([2, 3])\n",
      "Parameter containing:\n",
      "tensor([[ 0.2354,  0.5569, -0.1389],\n",
      "        [-0.2048, -0.0866, -0.2506]], requires_grad=True)\n",
      "Layer: output.bias, Size: torch.Size([2])\n",
      "Parameter containing:\n",
      "tensor([0.0693, 0.5504], requires_grad=True)\n"
     ]
    }
   ],
   "source": [
    "# Access the weights for each layer\n",
    "for name, param in best_model.named_parameters():\n",
    "    if param.requires_grad:\n",
    "        print(f'Layer: {name}, Size: {param.size()}')\n",
    "        print(param)"
   ]
  }
 ],
 "metadata": {
  "kernelspec": {
   "display_name": "Python 3 (ipykernel)",
   "language": "python",
   "name": "python3"
  },
  "language_info": {
   "codemirror_mode": {
    "name": "ipython",
    "version": 3
   },
   "file_extension": ".py",
   "mimetype": "text/x-python",
   "name": "python",
   "nbconvert_exporter": "python",
   "pygments_lexer": "ipython3",
   "version": "3.11.8"
  }
 },
 "nbformat": 4,
 "nbformat_minor": 5
}
